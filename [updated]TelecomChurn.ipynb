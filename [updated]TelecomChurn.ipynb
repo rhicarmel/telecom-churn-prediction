{
 "cells": [
  {
   "cell_type": "markdown",
   "metadata": {},
   "source": [
    "# Customer Churn Prediction for Telecom Provider: Interconnect\n",
    "\n",
    "In this project, we will develop a machine learning model to predict customer churn for the telecom provider Interconnect. If a customer is likely to leave, the company can proactively offer promotions or better plans to retain them.\n",
    "\n",
    "**Goal** \n",
    "\n",
    "The target variable is churn, defined as customers whose `EndDate` is \"No\" (they are still active).\n",
    "Our main objective is to build a predictive model that maximizes the AUC-ROC score, with a minimum threshold of 0.75 for project approval.\n",
    "\n",
    "**Evaluation Criteria** \n",
    "\n",
    "We will evaluate model performance based on:\n",
    "\n",
    "- Primary Metric: AUC-ROC Score\n",
    "- Secondary Metric: Accuracy\n",
    "\n",
    "The scoring system is:\n",
    "\n",
    "- AUC-ROC < 0.75 → 0 SP (Fail)\n",
    "- 0.75 ≤ AUC-ROC < 0.81 → 4 SP\n",
    "- 0.81 ≤ AUC-ROC < 0.85 → 4.5 SP\n",
    "- 0.85 ≤ AUC-ROC < 0.87 → 5 SP\n",
    "- 0.87 ≤ AUC-ROC < 0.88 → 5.5 SP\n",
    "- AUC-ROC ≥ 0.88 → 6 SP (Highest Score)\n",
    "\n",
    "**Project Workflow** \n",
    "\n",
    "- Data Loading & Exploration – Load and inspect datasets.\n",
    "- Data Preprocessing – Handle missing values, merge datasets, and clean columns.\n",
    "- Exploratory Data Analysis (EDA) – Identify trends and correlations.\n",
    "- Feature Engineering – Transform categorical and numerical features.\n",
    "- Model Development – Train and evaluate machine learning models.\n",
    "- Final Evaluation & Conclusion – Optimize the model and summarize findings.\n"
   ]
  },
  {
   "cell_type": "markdown",
   "metadata": {},
   "source": [
    "***\n",
    "### Load the Data and Explore General Information\n",
    "- Load all four datasets.\n",
    "- Display basic information such as the number of rows, columns, and data types.\n",
    "- Check for missing values."
   ]
  },
  {
   "cell_type": "code",
   "execution_count": 1,
   "metadata": {},
   "outputs": [],
   "source": [
    "import pandas as pd\n",
    "import numpy as np\n",
    "import seaborn as sns\n",
    "import matplotlib.pyplot as plt\n",
    "from sklearn.svm import SVC\n",
    "from sklearn.model_selection import GridSearchCV\n",
    "from sklearn.model_selection import train_test_split\n",
    "from sklearn.preprocessing import StandardScaler\n",
    "from sklearn.linear_model import LogisticRegression\n",
    "from sklearn.metrics import roc_auc_score, accuracy_score\n",
    "from sklearn.ensemble import RandomForestClassifier\n",
    "from sklearn.ensemble import GradientBoostingClassifier\n",
    "from catboost import CatBoostClassifier\n",
    "from xgboost import XGBClassifier\n",
    "from lightgbm import LGBMClassifier\n",
    "\n",
    "# Display settings\n",
    "pd.set_option('display.max_columns', None) \n",
    "pd.set_option('display.float_format', '{:.2f}'.format) "
   ]
  },
  {
   "cell_type": "code",
   "execution_count": 2,
   "metadata": {},
   "outputs": [
    {
     "data": {
      "text/html": [
       "<div>\n",
       "<style scoped>\n",
       "    .dataframe tbody tr th:only-of-type {\n",
       "        vertical-align: middle;\n",
       "    }\n",
       "\n",
       "    .dataframe tbody tr th {\n",
       "        vertical-align: top;\n",
       "    }\n",
       "\n",
       "    .dataframe thead th {\n",
       "        text-align: right;\n",
       "    }\n",
       "</style>\n",
       "<table border=\"1\" class=\"dataframe\">\n",
       "  <thead>\n",
       "    <tr style=\"text-align: right;\">\n",
       "      <th></th>\n",
       "      <th>customerID</th>\n",
       "      <th>BeginDate</th>\n",
       "      <th>EndDate</th>\n",
       "      <th>Type</th>\n",
       "      <th>PaperlessBilling</th>\n",
       "      <th>PaymentMethod</th>\n",
       "      <th>MonthlyCharges</th>\n",
       "      <th>TotalCharges</th>\n",
       "    </tr>\n",
       "  </thead>\n",
       "  <tbody>\n",
       "    <tr>\n",
       "      <th>0</th>\n",
       "      <td>7590-VHVEG</td>\n",
       "      <td>2020-01-01</td>\n",
       "      <td>No</td>\n",
       "      <td>Month-to-month</td>\n",
       "      <td>Yes</td>\n",
       "      <td>Electronic check</td>\n",
       "      <td>29.85</td>\n",
       "      <td>29.85</td>\n",
       "    </tr>\n",
       "    <tr>\n",
       "      <th>1</th>\n",
       "      <td>5575-GNVDE</td>\n",
       "      <td>2017-04-01</td>\n",
       "      <td>No</td>\n",
       "      <td>One year</td>\n",
       "      <td>No</td>\n",
       "      <td>Mailed check</td>\n",
       "      <td>56.95</td>\n",
       "      <td>1889.5</td>\n",
       "    </tr>\n",
       "    <tr>\n",
       "      <th>2</th>\n",
       "      <td>3668-QPYBK</td>\n",
       "      <td>2019-10-01</td>\n",
       "      <td>2019-12-01 00:00:00</td>\n",
       "      <td>Month-to-month</td>\n",
       "      <td>Yes</td>\n",
       "      <td>Mailed check</td>\n",
       "      <td>53.85</td>\n",
       "      <td>108.15</td>\n",
       "    </tr>\n",
       "    <tr>\n",
       "      <th>3</th>\n",
       "      <td>7795-CFOCW</td>\n",
       "      <td>2016-05-01</td>\n",
       "      <td>No</td>\n",
       "      <td>One year</td>\n",
       "      <td>No</td>\n",
       "      <td>Bank transfer (automatic)</td>\n",
       "      <td>42.30</td>\n",
       "      <td>1840.75</td>\n",
       "    </tr>\n",
       "    <tr>\n",
       "      <th>4</th>\n",
       "      <td>9237-HQITU</td>\n",
       "      <td>2019-09-01</td>\n",
       "      <td>2019-11-01 00:00:00</td>\n",
       "      <td>Month-to-month</td>\n",
       "      <td>Yes</td>\n",
       "      <td>Electronic check</td>\n",
       "      <td>70.70</td>\n",
       "      <td>151.65</td>\n",
       "    </tr>\n",
       "  </tbody>\n",
       "</table>\n",
       "</div>"
      ],
      "text/plain": [
       "   customerID   BeginDate              EndDate            Type  \\\n",
       "0  7590-VHVEG  2020-01-01                   No  Month-to-month   \n",
       "1  5575-GNVDE  2017-04-01                   No        One year   \n",
       "2  3668-QPYBK  2019-10-01  2019-12-01 00:00:00  Month-to-month   \n",
       "3  7795-CFOCW  2016-05-01                   No        One year   \n",
       "4  9237-HQITU  2019-09-01  2019-11-01 00:00:00  Month-to-month   \n",
       "\n",
       "  PaperlessBilling              PaymentMethod  MonthlyCharges TotalCharges  \n",
       "0              Yes           Electronic check           29.85        29.85  \n",
       "1               No               Mailed check           56.95       1889.5  \n",
       "2              Yes               Mailed check           53.85       108.15  \n",
       "3               No  Bank transfer (automatic)           42.30      1840.75  \n",
       "4              Yes           Electronic check           70.70       151.65  "
      ]
     },
     "metadata": {},
     "output_type": "display_data"
    },
    {
     "data": {
      "text/html": [
       "<div>\n",
       "<style scoped>\n",
       "    .dataframe tbody tr th:only-of-type {\n",
       "        vertical-align: middle;\n",
       "    }\n",
       "\n",
       "    .dataframe tbody tr th {\n",
       "        vertical-align: top;\n",
       "    }\n",
       "\n",
       "    .dataframe thead th {\n",
       "        text-align: right;\n",
       "    }\n",
       "</style>\n",
       "<table border=\"1\" class=\"dataframe\">\n",
       "  <thead>\n",
       "    <tr style=\"text-align: right;\">\n",
       "      <th></th>\n",
       "      <th>customerID</th>\n",
       "      <th>gender</th>\n",
       "      <th>SeniorCitizen</th>\n",
       "      <th>Partner</th>\n",
       "      <th>Dependents</th>\n",
       "    </tr>\n",
       "  </thead>\n",
       "  <tbody>\n",
       "    <tr>\n",
       "      <th>0</th>\n",
       "      <td>7590-VHVEG</td>\n",
       "      <td>Female</td>\n",
       "      <td>0</td>\n",
       "      <td>Yes</td>\n",
       "      <td>No</td>\n",
       "    </tr>\n",
       "    <tr>\n",
       "      <th>1</th>\n",
       "      <td>5575-GNVDE</td>\n",
       "      <td>Male</td>\n",
       "      <td>0</td>\n",
       "      <td>No</td>\n",
       "      <td>No</td>\n",
       "    </tr>\n",
       "    <tr>\n",
       "      <th>2</th>\n",
       "      <td>3668-QPYBK</td>\n",
       "      <td>Male</td>\n",
       "      <td>0</td>\n",
       "      <td>No</td>\n",
       "      <td>No</td>\n",
       "    </tr>\n",
       "    <tr>\n",
       "      <th>3</th>\n",
       "      <td>7795-CFOCW</td>\n",
       "      <td>Male</td>\n",
       "      <td>0</td>\n",
       "      <td>No</td>\n",
       "      <td>No</td>\n",
       "    </tr>\n",
       "    <tr>\n",
       "      <th>4</th>\n",
       "      <td>9237-HQITU</td>\n",
       "      <td>Female</td>\n",
       "      <td>0</td>\n",
       "      <td>No</td>\n",
       "      <td>No</td>\n",
       "    </tr>\n",
       "  </tbody>\n",
       "</table>\n",
       "</div>"
      ],
      "text/plain": [
       "   customerID  gender  SeniorCitizen Partner Dependents\n",
       "0  7590-VHVEG  Female              0     Yes         No\n",
       "1  5575-GNVDE    Male              0      No         No\n",
       "2  3668-QPYBK    Male              0      No         No\n",
       "3  7795-CFOCW    Male              0      No         No\n",
       "4  9237-HQITU  Female              0      No         No"
      ]
     },
     "metadata": {},
     "output_type": "display_data"
    },
    {
     "data": {
      "text/html": [
       "<div>\n",
       "<style scoped>\n",
       "    .dataframe tbody tr th:only-of-type {\n",
       "        vertical-align: middle;\n",
       "    }\n",
       "\n",
       "    .dataframe tbody tr th {\n",
       "        vertical-align: top;\n",
       "    }\n",
       "\n",
       "    .dataframe thead th {\n",
       "        text-align: right;\n",
       "    }\n",
       "</style>\n",
       "<table border=\"1\" class=\"dataframe\">\n",
       "  <thead>\n",
       "    <tr style=\"text-align: right;\">\n",
       "      <th></th>\n",
       "      <th>customerID</th>\n",
       "      <th>InternetService</th>\n",
       "      <th>OnlineSecurity</th>\n",
       "      <th>OnlineBackup</th>\n",
       "      <th>DeviceProtection</th>\n",
       "      <th>TechSupport</th>\n",
       "      <th>StreamingTV</th>\n",
       "      <th>StreamingMovies</th>\n",
       "    </tr>\n",
       "  </thead>\n",
       "  <tbody>\n",
       "    <tr>\n",
       "      <th>0</th>\n",
       "      <td>7590-VHVEG</td>\n",
       "      <td>DSL</td>\n",
       "      <td>No</td>\n",
       "      <td>Yes</td>\n",
       "      <td>No</td>\n",
       "      <td>No</td>\n",
       "      <td>No</td>\n",
       "      <td>No</td>\n",
       "    </tr>\n",
       "    <tr>\n",
       "      <th>1</th>\n",
       "      <td>5575-GNVDE</td>\n",
       "      <td>DSL</td>\n",
       "      <td>Yes</td>\n",
       "      <td>No</td>\n",
       "      <td>Yes</td>\n",
       "      <td>No</td>\n",
       "      <td>No</td>\n",
       "      <td>No</td>\n",
       "    </tr>\n",
       "    <tr>\n",
       "      <th>2</th>\n",
       "      <td>3668-QPYBK</td>\n",
       "      <td>DSL</td>\n",
       "      <td>Yes</td>\n",
       "      <td>Yes</td>\n",
       "      <td>No</td>\n",
       "      <td>No</td>\n",
       "      <td>No</td>\n",
       "      <td>No</td>\n",
       "    </tr>\n",
       "    <tr>\n",
       "      <th>3</th>\n",
       "      <td>7795-CFOCW</td>\n",
       "      <td>DSL</td>\n",
       "      <td>Yes</td>\n",
       "      <td>No</td>\n",
       "      <td>Yes</td>\n",
       "      <td>Yes</td>\n",
       "      <td>No</td>\n",
       "      <td>No</td>\n",
       "    </tr>\n",
       "    <tr>\n",
       "      <th>4</th>\n",
       "      <td>9237-HQITU</td>\n",
       "      <td>Fiber optic</td>\n",
       "      <td>No</td>\n",
       "      <td>No</td>\n",
       "      <td>No</td>\n",
       "      <td>No</td>\n",
       "      <td>No</td>\n",
       "      <td>No</td>\n",
       "    </tr>\n",
       "  </tbody>\n",
       "</table>\n",
       "</div>"
      ],
      "text/plain": [
       "   customerID InternetService OnlineSecurity OnlineBackup DeviceProtection  \\\n",
       "0  7590-VHVEG             DSL             No          Yes               No   \n",
       "1  5575-GNVDE             DSL            Yes           No              Yes   \n",
       "2  3668-QPYBK             DSL            Yes          Yes               No   \n",
       "3  7795-CFOCW             DSL            Yes           No              Yes   \n",
       "4  9237-HQITU     Fiber optic             No           No               No   \n",
       "\n",
       "  TechSupport StreamingTV StreamingMovies  \n",
       "0          No          No              No  \n",
       "1          No          No              No  \n",
       "2          No          No              No  \n",
       "3         Yes          No              No  \n",
       "4          No          No              No  "
      ]
     },
     "metadata": {},
     "output_type": "display_data"
    },
    {
     "data": {
      "text/html": [
       "<div>\n",
       "<style scoped>\n",
       "    .dataframe tbody tr th:only-of-type {\n",
       "        vertical-align: middle;\n",
       "    }\n",
       "\n",
       "    .dataframe tbody tr th {\n",
       "        vertical-align: top;\n",
       "    }\n",
       "\n",
       "    .dataframe thead th {\n",
       "        text-align: right;\n",
       "    }\n",
       "</style>\n",
       "<table border=\"1\" class=\"dataframe\">\n",
       "  <thead>\n",
       "    <tr style=\"text-align: right;\">\n",
       "      <th></th>\n",
       "      <th>customerID</th>\n",
       "      <th>MultipleLines</th>\n",
       "    </tr>\n",
       "  </thead>\n",
       "  <tbody>\n",
       "    <tr>\n",
       "      <th>0</th>\n",
       "      <td>5575-GNVDE</td>\n",
       "      <td>No</td>\n",
       "    </tr>\n",
       "    <tr>\n",
       "      <th>1</th>\n",
       "      <td>3668-QPYBK</td>\n",
       "      <td>No</td>\n",
       "    </tr>\n",
       "    <tr>\n",
       "      <th>2</th>\n",
       "      <td>9237-HQITU</td>\n",
       "      <td>No</td>\n",
       "    </tr>\n",
       "    <tr>\n",
       "      <th>3</th>\n",
       "      <td>9305-CDSKC</td>\n",
       "      <td>Yes</td>\n",
       "    </tr>\n",
       "    <tr>\n",
       "      <th>4</th>\n",
       "      <td>1452-KIOVK</td>\n",
       "      <td>Yes</td>\n",
       "    </tr>\n",
       "  </tbody>\n",
       "</table>\n",
       "</div>"
      ],
      "text/plain": [
       "   customerID MultipleLines\n",
       "0  5575-GNVDE            No\n",
       "1  3668-QPYBK            No\n",
       "2  9237-HQITU            No\n",
       "3  9305-CDSKC           Yes\n",
       "4  1452-KIOVK           Yes"
      ]
     },
     "metadata": {},
     "output_type": "display_data"
    }
   ],
   "source": [
    "# Load datasets\n",
    "contract_df = pd.read_csv(\"/datasets/final_provider/contract.csv\")\n",
    "personal_df = pd.read_csv(\"/datasets/final_provider/personal.csv\")\n",
    "internet_df = pd.read_csv(\"/datasets/final_provider/internet.csv\")\n",
    "phone_df = pd.read_csv(\"/datasets/final_provider/phone.csv\")\n",
    "\n",
    "# Display first few rows of each dataset\n",
    "display(contract_df.head(), personal_df.head(), internet_df.head(), phone_df.head())"
   ]
  },
  {
   "cell_type": "code",
   "execution_count": 3,
   "metadata": {},
   "outputs": [
    {
     "name": "stdout",
     "output_type": "stream",
     "text": [
      "Dataset: Contract\n",
      "----------------------------------------\n",
      "Shape: (7043, 8)\n",
      "\n",
      "Missing values:\n",
      "customerID          0\n",
      "BeginDate           0\n",
      "EndDate             0\n",
      "Type                0\n",
      "PaperlessBilling    0\n",
      "PaymentMethod       0\n",
      "MonthlyCharges      0\n",
      "TotalCharges        0\n",
      "dtype: int64\n",
      "\n",
      "Data Types:\n",
      "customerID           object\n",
      "BeginDate            object\n",
      "EndDate              object\n",
      "Type                 object\n",
      "PaperlessBilling     object\n",
      "PaymentMethod        object\n",
      "MonthlyCharges      float64\n",
      "TotalCharges         object\n",
      "dtype: object\n",
      "\n",
      "============================================================\n",
      "\n",
      "Dataset: Personal\n",
      "----------------------------------------\n",
      "Shape: (7043, 5)\n",
      "\n",
      "Missing values:\n",
      "customerID       0\n",
      "gender           0\n",
      "SeniorCitizen    0\n",
      "Partner          0\n",
      "Dependents       0\n",
      "dtype: int64\n",
      "\n",
      "Data Types:\n",
      "customerID       object\n",
      "gender           object\n",
      "SeniorCitizen     int64\n",
      "Partner          object\n",
      "Dependents       object\n",
      "dtype: object\n",
      "\n",
      "============================================================\n",
      "\n",
      "Dataset: Internet\n",
      "----------------------------------------\n",
      "Shape: (5517, 8)\n",
      "\n",
      "Missing values:\n",
      "customerID          0\n",
      "InternetService     0\n",
      "OnlineSecurity      0\n",
      "OnlineBackup        0\n",
      "DeviceProtection    0\n",
      "TechSupport         0\n",
      "StreamingTV         0\n",
      "StreamingMovies     0\n",
      "dtype: int64\n",
      "\n",
      "Data Types:\n",
      "customerID          object\n",
      "InternetService     object\n",
      "OnlineSecurity      object\n",
      "OnlineBackup        object\n",
      "DeviceProtection    object\n",
      "TechSupport         object\n",
      "StreamingTV         object\n",
      "StreamingMovies     object\n",
      "dtype: object\n",
      "\n",
      "============================================================\n",
      "\n",
      "Dataset: Phone\n",
      "----------------------------------------\n",
      "Shape: (6361, 2)\n",
      "\n",
      "Missing values:\n",
      "customerID       0\n",
      "MultipleLines    0\n",
      "dtype: int64\n",
      "\n",
      "Data Types:\n",
      "customerID       object\n",
      "MultipleLines    object\n",
      "dtype: object\n",
      "\n",
      "============================================================\n",
      "\n"
     ]
    }
   ],
   "source": [
    "# Function to summarize datasets\n",
    "def dataset_info(df, name):\n",
    "    print(f\"Dataset: {name}\")\n",
    "    print(\"-\" * 40)\n",
    "    print(f\"Shape: {df.shape}\")\n",
    "    print(\"\\nMissing values:\")\n",
    "    print(df.isnull().sum())\n",
    "    print(\"\\nData Types:\")\n",
    "    print(df.dtypes)\n",
    "    print(\"\\n\" + \"=\"*60 + \"\\n\")\n",
    "\n",
    "# Display info for each dataset\n",
    "dataset_info(contract_df, \"Contract\")\n",
    "dataset_info(personal_df, \"Personal\")\n",
    "dataset_info(internet_df, \"Internet\")\n",
    "dataset_info(phone_df, \"Phone\")"
   ]
  },
  {
   "cell_type": "markdown",
   "metadata": {},
   "source": [
    "***\n",
    "### Data Cleaning & Preprocessing\n",
    "- Convert `EndDate` to a datetime format and create a churn indicator (`Churn` = 1 if `EndDate` is not \"No\", else 0).\n",
    "- Convert `TotalCharges` to numeric.\n",
    "- Merge the four datasets into a single dataframe using customerID."
   ]
  },
  {
   "cell_type": "code",
   "execution_count": 4,
   "metadata": {},
   "outputs": [
    {
     "data": {
      "text/html": [
       "<div>\n",
       "<style scoped>\n",
       "    .dataframe tbody tr th:only-of-type {\n",
       "        vertical-align: middle;\n",
       "    }\n",
       "\n",
       "    .dataframe tbody tr th {\n",
       "        vertical-align: top;\n",
       "    }\n",
       "\n",
       "    .dataframe thead th {\n",
       "        text-align: right;\n",
       "    }\n",
       "</style>\n",
       "<table border=\"1\" class=\"dataframe\">\n",
       "  <thead>\n",
       "    <tr style=\"text-align: right;\">\n",
       "      <th></th>\n",
       "      <th>customerID</th>\n",
       "      <th>BeginDate</th>\n",
       "      <th>EndDate</th>\n",
       "      <th>Type</th>\n",
       "      <th>PaperlessBilling</th>\n",
       "      <th>PaymentMethod</th>\n",
       "      <th>MonthlyCharges</th>\n",
       "      <th>TotalCharges</th>\n",
       "      <th>Churn</th>\n",
       "    </tr>\n",
       "  </thead>\n",
       "  <tbody>\n",
       "    <tr>\n",
       "      <th>0</th>\n",
       "      <td>7590-VHVEG</td>\n",
       "      <td>2020-01-01</td>\n",
       "      <td>NaT</td>\n",
       "      <td>Month-to-month</td>\n",
       "      <td>Yes</td>\n",
       "      <td>Electronic check</td>\n",
       "      <td>29.85</td>\n",
       "      <td>29.85</td>\n",
       "      <td>0</td>\n",
       "    </tr>\n",
       "    <tr>\n",
       "      <th>1</th>\n",
       "      <td>5575-GNVDE</td>\n",
       "      <td>2017-04-01</td>\n",
       "      <td>NaT</td>\n",
       "      <td>One year</td>\n",
       "      <td>No</td>\n",
       "      <td>Mailed check</td>\n",
       "      <td>56.95</td>\n",
       "      <td>1889.5</td>\n",
       "      <td>0</td>\n",
       "    </tr>\n",
       "    <tr>\n",
       "      <th>2</th>\n",
       "      <td>3668-QPYBK</td>\n",
       "      <td>2019-10-01</td>\n",
       "      <td>2019-12-01</td>\n",
       "      <td>Month-to-month</td>\n",
       "      <td>Yes</td>\n",
       "      <td>Mailed check</td>\n",
       "      <td>53.85</td>\n",
       "      <td>108.15</td>\n",
       "      <td>1</td>\n",
       "    </tr>\n",
       "    <tr>\n",
       "      <th>3</th>\n",
       "      <td>7795-CFOCW</td>\n",
       "      <td>2016-05-01</td>\n",
       "      <td>NaT</td>\n",
       "      <td>One year</td>\n",
       "      <td>No</td>\n",
       "      <td>Bank transfer (automatic)</td>\n",
       "      <td>42.30</td>\n",
       "      <td>1840.75</td>\n",
       "      <td>0</td>\n",
       "    </tr>\n",
       "    <tr>\n",
       "      <th>4</th>\n",
       "      <td>9237-HQITU</td>\n",
       "      <td>2019-09-01</td>\n",
       "      <td>2019-11-01</td>\n",
       "      <td>Month-to-month</td>\n",
       "      <td>Yes</td>\n",
       "      <td>Electronic check</td>\n",
       "      <td>70.70</td>\n",
       "      <td>151.65</td>\n",
       "      <td>1</td>\n",
       "    </tr>\n",
       "  </tbody>\n",
       "</table>\n",
       "</div>"
      ],
      "text/plain": [
       "   customerID   BeginDate    EndDate            Type PaperlessBilling  \\\n",
       "0  7590-VHVEG  2020-01-01        NaT  Month-to-month              Yes   \n",
       "1  5575-GNVDE  2017-04-01        NaT        One year               No   \n",
       "2  3668-QPYBK  2019-10-01 2019-12-01  Month-to-month              Yes   \n",
       "3  7795-CFOCW  2016-05-01        NaT        One year               No   \n",
       "4  9237-HQITU  2019-09-01 2019-11-01  Month-to-month              Yes   \n",
       "\n",
       "               PaymentMethod  MonthlyCharges TotalCharges  Churn  \n",
       "0           Electronic check           29.85        29.85      0  \n",
       "1               Mailed check           56.95       1889.5      0  \n",
       "2               Mailed check           53.85       108.15      1  \n",
       "3  Bank transfer (automatic)           42.30      1840.75      0  \n",
       "4           Electronic check           70.70       151.65      1  "
      ]
     },
     "execution_count": 4,
     "metadata": {},
     "output_type": "execute_result"
    }
   ],
   "source": [
    "# Convert EndDate to datetime treating No as an active customer\n",
    "contract_df['EndDate'] = contract_df['EndDate'].replace(\"No\", np.nan)\n",
    "contract_df['EndDate'] = pd.to_datetime(contract_df['EndDate'])\n",
    "\n",
    "# Create Churn column: 1 if customer has an EndDate and 0 if still active\n",
    "contract_df['Churn'] = contract_df['EndDate'].notna().astype(int)\n",
    "\n",
    "# Display updated dataset\n",
    "contract_df.head()"
   ]
  },
  {
   "cell_type": "code",
   "execution_count": 5,
   "metadata": {},
   "outputs": [
    {
     "data": {
      "text/plain": [
       "11"
      ]
     },
     "execution_count": 5,
     "metadata": {},
     "output_type": "execute_result"
    }
   ],
   "source": [
    "# Convert TotalCharges to numeric replacing empty strings with NaN\n",
    "contract_df['TotalCharges'] = pd.to_numeric(contract_df['TotalCharges'], errors='coerce')\n",
    "\n",
    "# Check if any NaN values appear after conversion\n",
    "contract_df['TotalCharges'].isna().sum()"
   ]
  },
  {
   "cell_type": "markdown",
   "metadata": {},
   "source": [
    "**Handling Missing TotalCharges Values**\n",
    "- If `TotalCharges` is missing, it likely means that the customer just signed up and hasn't been billed yet.\n",
    "- A reasonable approach is to replace `NaN` with 0 since their total charge should be zero at signup."
   ]
  },
  {
   "cell_type": "code",
   "execution_count": 6,
   "metadata": {},
   "outputs": [
    {
     "data": {
      "text/plain": [
       "0"
      ]
     },
     "execution_count": 6,
     "metadata": {},
     "output_type": "execute_result"
    }
   ],
   "source": [
    "# Fill missing TotalCharges with 0 \n",
    "contract_df['TotalCharges'].fillna(0, inplace=True)\n",
    "\n",
    "# Verify no more missing values\n",
    "contract_df['TotalCharges'].isna().sum()"
   ]
  },
  {
   "cell_type": "markdown",
   "metadata": {},
   "source": [
    "**Merge All Datasets**\n",
    "\n",
    "Merge the datasets using `customerID`:\n",
    "\n",
    "- Contract data (`contract_df`) is the base (all customers exist here).\n",
    "- Personal data (`personal_df`) adds demographics.\n",
    "- Internet data (`internet_df`) adds internet service details.\n",
    "- Phone data (`phone_df`) adds phone service details."
   ]
  },
  {
   "cell_type": "code",
   "execution_count": 7,
   "metadata": {},
   "outputs": [
    {
     "data": {
      "text/plain": [
       "(7043, 21)"
      ]
     },
     "execution_count": 7,
     "metadata": {},
     "output_type": "execute_result"
    }
   ],
   "source": [
    "# Merge datasets on customerID\n",
    "df = contract_df.merge(personal_df, on='customerID', how='left')\n",
    "df = df.merge(internet_df, on='customerID', how='left')\n",
    "df = df.merge(phone_df, on='customerID', how='left')\n",
    "\n",
    "# Display the shape of the final dataframe\n",
    "df.shape"
   ]
  },
  {
   "cell_type": "markdown",
   "metadata": {},
   "source": [
    "***\n",
    "### Exploratory Data Analysis (EDA)"
   ]
  },
  {
   "cell_type": "code",
   "execution_count": 8,
   "metadata": {},
   "outputs": [
    {
     "data": {
      "text/html": [
       "<div>\n",
       "<style scoped>\n",
       "    .dataframe tbody tr th:only-of-type {\n",
       "        vertical-align: middle;\n",
       "    }\n",
       "\n",
       "    .dataframe tbody tr th {\n",
       "        vertical-align: top;\n",
       "    }\n",
       "\n",
       "    .dataframe thead th {\n",
       "        text-align: right;\n",
       "    }\n",
       "</style>\n",
       "<table border=\"1\" class=\"dataframe\">\n",
       "  <thead>\n",
       "    <tr style=\"text-align: right;\">\n",
       "      <th></th>\n",
       "      <th>MonthlyCharges</th>\n",
       "      <th>TotalCharges</th>\n",
       "      <th>Churn</th>\n",
       "      <th>SeniorCitizen</th>\n",
       "    </tr>\n",
       "  </thead>\n",
       "  <tbody>\n",
       "    <tr>\n",
       "      <th>count</th>\n",
       "      <td>7043.00</td>\n",
       "      <td>7043.00</td>\n",
       "      <td>7043.00</td>\n",
       "      <td>7043.00</td>\n",
       "    </tr>\n",
       "    <tr>\n",
       "      <th>mean</th>\n",
       "      <td>64.76</td>\n",
       "      <td>2279.73</td>\n",
       "      <td>0.27</td>\n",
       "      <td>0.16</td>\n",
       "    </tr>\n",
       "    <tr>\n",
       "      <th>std</th>\n",
       "      <td>30.09</td>\n",
       "      <td>2266.79</td>\n",
       "      <td>0.44</td>\n",
       "      <td>0.37</td>\n",
       "    </tr>\n",
       "    <tr>\n",
       "      <th>min</th>\n",
       "      <td>18.25</td>\n",
       "      <td>0.00</td>\n",
       "      <td>0.00</td>\n",
       "      <td>0.00</td>\n",
       "    </tr>\n",
       "    <tr>\n",
       "      <th>25%</th>\n",
       "      <td>35.50</td>\n",
       "      <td>398.55</td>\n",
       "      <td>0.00</td>\n",
       "      <td>0.00</td>\n",
       "    </tr>\n",
       "    <tr>\n",
       "      <th>50%</th>\n",
       "      <td>70.35</td>\n",
       "      <td>1394.55</td>\n",
       "      <td>0.00</td>\n",
       "      <td>0.00</td>\n",
       "    </tr>\n",
       "    <tr>\n",
       "      <th>75%</th>\n",
       "      <td>89.85</td>\n",
       "      <td>3786.60</td>\n",
       "      <td>1.00</td>\n",
       "      <td>0.00</td>\n",
       "    </tr>\n",
       "    <tr>\n",
       "      <th>max</th>\n",
       "      <td>118.75</td>\n",
       "      <td>8684.80</td>\n",
       "      <td>1.00</td>\n",
       "      <td>1.00</td>\n",
       "    </tr>\n",
       "  </tbody>\n",
       "</table>\n",
       "</div>"
      ],
      "text/plain": [
       "       MonthlyCharges  TotalCharges   Churn  SeniorCitizen\n",
       "count         7043.00       7043.00 7043.00        7043.00\n",
       "mean            64.76       2279.73    0.27           0.16\n",
       "std             30.09       2266.79    0.44           0.37\n",
       "min             18.25          0.00    0.00           0.00\n",
       "25%             35.50        398.55    0.00           0.00\n",
       "50%             70.35       1394.55    0.00           0.00\n",
       "75%             89.85       3786.60    1.00           0.00\n",
       "max            118.75       8684.80    1.00           1.00"
      ]
     },
     "execution_count": 8,
     "metadata": {},
     "output_type": "execute_result"
    }
   ],
   "source": [
    "# Display basic statistics \n",
    "df.describe()"
   ]
  },
  {
   "cell_type": "code",
   "execution_count": 9,
   "metadata": {},
   "outputs": [
    {
     "name": "stdout",
     "output_type": "stream",
     "text": [
      "customerID: ['7590-VHVEG' '5575-GNVDE' '3668-QPYBK' ... '4801-JZAZL' '8361-LTMKD'\n",
      " '3186-AJIEK']\n",
      "\n",
      "BeginDate: ['2020-01-01' '2017-04-01' '2019-10-01' '2016-05-01' '2019-09-01'\n",
      " '2019-03-01' '2018-04-01' '2019-04-01' '2017-07-01' '2014-12-01'\n",
      " '2019-01-01' '2018-10-01' '2015-04-01' '2015-09-01' '2018-01-01'\n",
      " '2014-05-01' '2015-10-01' '2014-03-01' '2018-05-01' '2019-11-01'\n",
      " '2019-02-01' '2016-01-01' '2017-08-01' '2015-12-01' '2014-02-01'\n",
      " '2018-06-01' '2019-12-01' '2017-11-01' '2019-06-01' '2016-04-01'\n",
      " '2017-02-01' '2018-12-01' '2014-04-01' '2018-09-01' '2014-11-01'\n",
      " '2016-07-01' '2015-02-01' '2018-07-01' '2014-08-01' '2016-03-01'\n",
      " '2018-08-01' '2014-10-01' '2015-06-01' '2016-08-01' '2019-05-01'\n",
      " '2017-03-01' '2016-02-01' '2017-09-01' '2014-09-01' '2017-12-01'\n",
      " '2016-12-01' '2017-06-01' '2015-05-01' '2016-10-01' '2016-09-01'\n",
      " '2019-08-01' '2019-07-01' '2017-05-01' '2017-10-01' '2014-07-01'\n",
      " '2018-03-01' '2015-01-01' '2018-11-01' '2015-03-01' '2018-02-01'\n",
      " '2016-06-01' '2015-08-01' '2015-11-01' '2014-06-01' '2017-01-01'\n",
      " '2015-07-01' '2020-02-01' '2016-11-01' '2013-11-01' '2014-01-01'\n",
      " '2013-10-01' '2013-12-01']\n",
      "\n",
      "Type: ['Month-to-month' 'One year' 'Two year']\n",
      "\n",
      "PaperlessBilling: ['Yes' 'No']\n",
      "\n",
      "PaymentMethod: ['Electronic check' 'Mailed check' 'Bank transfer (automatic)'\n",
      " 'Credit card (automatic)']\n",
      "\n",
      "gender: ['Female' 'Male']\n",
      "\n",
      "Partner: ['Yes' 'No']\n",
      "\n",
      "Dependents: ['No' 'Yes']\n",
      "\n",
      "InternetService: ['DSL' 'Fiber optic' nan]\n",
      "\n",
      "OnlineSecurity: ['No' 'Yes' nan]\n",
      "\n",
      "OnlineBackup: ['Yes' 'No' nan]\n",
      "\n",
      "DeviceProtection: ['No' 'Yes' nan]\n",
      "\n",
      "TechSupport: ['No' 'Yes' nan]\n",
      "\n",
      "StreamingTV: ['No' 'Yes' nan]\n",
      "\n",
      "StreamingMovies: ['No' 'Yes' nan]\n",
      "\n",
      "MultipleLines: [nan 'No' 'Yes']\n",
      "\n"
     ]
    }
   ],
   "source": [
    "# Display unique values for categorical columns\n",
    "categorical_cols = df.select_dtypes(include=['object']).columns\n",
    "for col in categorical_cols:\n",
    "    print(f\"{col}: {df[col].unique()}\\n\")"
   ]
  },
  {
   "cell_type": "code",
   "execution_count": 10,
   "metadata": {},
   "outputs": [
    {
     "data": {
      "image/png": "[encoded data removed]",
      "text/plain": [
       "<Figure size 600x400 with 1 Axes>"
      ]
     },
     "metadata": {},
     "output_type": "display_data"
    }
   ],
   "source": [
    "# Plot churn distribution\n",
    "plt.figure(figsize=(6,4))\n",
    "sns.countplot(x='Churn', data=df, palette='coolwarm')\n",
    "plt.title(\"Churn Distribution\")\n",
    "plt.xlabel(\"Churn (0 = No, 1 = Yes)\")\n",
    "plt.ylabel(\"Count\")\n",
    "plt.show()"
   ]
  },
  {
   "cell_type": "markdown",
   "metadata": {},
   "source": [
    "#### Observations from EDA Results\n",
    "\n",
    "**Numerical Features Overview:**\n",
    "- `MonthlyCharges` ranges from `$18.25` to `$118.75`, with an average of `$64.76`.\n",
    "- `TotalCharges` has a wide spread, from `$0` to `$8684.80`, suggesting long term customers accumulate higher charges.\n",
    "- Churn rate is ~27%, meaning a significant portion of customers leave.\n",
    "\n",
    "**Categorical Features:**\n",
    "- `Type` (contract duration) has 3 unique values: Month-to-month, One year, Two year.\n",
    "- Billing & payment preferences: Customers use electronic check, mailed check, bank transfer, or credit card.\n",
    "- Internet & streaming services contain NaN values, meaning some customers don’t use internet services.\n",
    "\n",
    "**Churn Distribution (Visual Insight):**\n",
    "- More customers remain (`Churn = 0`) than leave (`Churn = 1`).\n",
    "- Potential class imbalance: We'll need to consider balancing techniques (SMOTE, weighted models) during training."
   ]
  },
  {
   "cell_type": "markdown",
   "metadata": {},
   "source": [
    "#### Correlation Analysis\n",
    "We can examine: \n",
    "- Correlation between numerical features and churn.\n",
    "- How categorical features impact churn."
   ]
  },
  {
   "cell_type": "code",
   "execution_count": 11,
   "metadata": {},
   "outputs": [
    {
     "data": {
      "image/png": "[encoded data removed]",
      "text/plain": [
       "<Figure size 800x600 with 2 Axes>"
      ]
     },
     "metadata": {},
     "output_type": "display_data"
    }
   ],
   "source": [
    "# Compute correlation matrix\n",
    "plt.figure(figsize=(8,6))\n",
    "sns.heatmap(df.corr(), annot=True, cmap=\"coolwarm\", fmt=\".2f\", linewidths=0.5)\n",
    "plt.title(\"Correlation Heatmap of Numerical Features\")\n",
    "plt.show()"
   ]
  },
  {
   "cell_type": "code",
   "execution_count": 12,
   "metadata": {},
   "outputs": [
    {
     "data": {
      "image/png": "[encoded data removed]",
      "text/plain": [
       "<Figure size 600x400 with 1 Axes>"
      ]
     },
     "metadata": {},
     "output_type": "display_data"
    }
   ],
   "source": [
    "# Plot contract type vs. churn\n",
    "plt.figure(figsize=(6,4))\n",
    "sns.countplot(x=\"Type\", hue=\"Churn\", data=df, palette=\"coolwarm\")\n",
    "plt.title(\"Contract Type vs Churn\")\n",
    "plt.xlabel(\"Contract Type\")\n",
    "plt.ylabel(\"Count\")\n",
    "plt.show()"
   ]
  },
  {
   "cell_type": "markdown",
   "metadata": {},
   "source": [
    "#### Correlation Analysis Key Findings \n",
    "- Customers with higher monthly charges are more likely to churn, but long term customers tend to stay.\n",
    "- Month-to-month contracts have the highest churn, while long term contracts reduce churn risk.\n",
    "- Contract type will be a key predictor in our model, along with billing and service usage."
   ]
  },
  {
   "cell_type": "markdown",
   "metadata": {},
   "source": [
    "***\n",
    "### Feature Engineering – Transform Categorical and Numerical Features\n",
    "- Encoding Categorical Variables (One-Hot Encoding)\n",
    "- Train-Test Split (Splitting data for model training)\n",
    "- Handling Numerical Features (Scaling `MonthlyCharges`, `TotalCharges`)"
   ]
  },
  {
   "cell_type": "markdown",
   "metadata": {},
   "source": [
    "#### Encoding Categorical Variables "
   ]
  },
  {
   "cell_type": "code",
   "execution_count": 13,
   "metadata": {},
   "outputs": [
    {
     "data": {
      "text/html": [
       "<div>\n",
       "<style scoped>\n",
       "    .dataframe tbody tr th:only-of-type {\n",
       "        vertical-align: middle;\n",
       "    }\n",
       "\n",
       "    .dataframe tbody tr th {\n",
       "        vertical-align: top;\n",
       "    }\n",
       "\n",
       "    .dataframe thead th {\n",
       "        text-align: right;\n",
       "    }\n",
       "</style>\n",
       "<table border=\"1\" class=\"dataframe\">\n",
       "  <thead>\n",
       "    <tr style=\"text-align: right;\">\n",
       "      <th></th>\n",
       "      <th>MonthlyCharges</th>\n",
       "      <th>TotalCharges</th>\n",
       "      <th>Churn</th>\n",
       "      <th>SeniorCitizen</th>\n",
       "      <th>Type_One year</th>\n",
       "      <th>Type_Two year</th>\n",
       "      <th>PaperlessBilling_Yes</th>\n",
       "      <th>PaymentMethod_Credit card (automatic)</th>\n",
       "      <th>PaymentMethod_Electronic check</th>\n",
       "      <th>PaymentMethod_Mailed check</th>\n",
       "      <th>gender_Male</th>\n",
       "      <th>Partner_Yes</th>\n",
       "      <th>Dependents_Yes</th>\n",
       "      <th>InternetService_Fiber optic</th>\n",
       "      <th>OnlineSecurity_Yes</th>\n",
       "      <th>OnlineBackup_Yes</th>\n",
       "      <th>DeviceProtection_Yes</th>\n",
       "      <th>TechSupport_Yes</th>\n",
       "      <th>StreamingTV_Yes</th>\n",
       "      <th>StreamingMovies_Yes</th>\n",
       "      <th>MultipleLines_Yes</th>\n",
       "    </tr>\n",
       "  </thead>\n",
       "  <tbody>\n",
       "    <tr>\n",
       "      <th>0</th>\n",
       "      <td>29.85</td>\n",
       "      <td>29.85</td>\n",
       "      <td>0</td>\n",
       "      <td>0</td>\n",
       "      <td>0</td>\n",
       "      <td>0</td>\n",
       "      <td>1</td>\n",
       "      <td>0</td>\n",
       "      <td>1</td>\n",
       "      <td>0</td>\n",
       "      <td>0</td>\n",
       "      <td>1</td>\n",
       "      <td>0</td>\n",
       "      <td>0</td>\n",
       "      <td>0</td>\n",
       "      <td>1</td>\n",
       "      <td>0</td>\n",
       "      <td>0</td>\n",
       "      <td>0</td>\n",
       "      <td>0</td>\n",
       "      <td>0</td>\n",
       "    </tr>\n",
       "    <tr>\n",
       "      <th>1</th>\n",
       "      <td>56.95</td>\n",
       "      <td>1889.50</td>\n",
       "      <td>0</td>\n",
       "      <td>0</td>\n",
       "      <td>1</td>\n",
       "      <td>0</td>\n",
       "      <td>0</td>\n",
       "      <td>0</td>\n",
       "      <td>0</td>\n",
       "      <td>1</td>\n",
       "      <td>1</td>\n",
       "      <td>0</td>\n",
       "      <td>0</td>\n",
       "      <td>0</td>\n",
       "      <td>1</td>\n",
       "      <td>0</td>\n",
       "      <td>1</td>\n",
       "      <td>0</td>\n",
       "      <td>0</td>\n",
       "      <td>0</td>\n",
       "      <td>0</td>\n",
       "    </tr>\n",
       "    <tr>\n",
       "      <th>2</th>\n",
       "      <td>53.85</td>\n",
       "      <td>108.15</td>\n",
       "      <td>1</td>\n",
       "      <td>0</td>\n",
       "      <td>0</td>\n",
       "      <td>0</td>\n",
       "      <td>1</td>\n",
       "      <td>0</td>\n",
       "      <td>0</td>\n",
       "      <td>1</td>\n",
       "      <td>1</td>\n",
       "      <td>0</td>\n",
       "      <td>0</td>\n",
       "      <td>0</td>\n",
       "      <td>1</td>\n",
       "      <td>1</td>\n",
       "      <td>0</td>\n",
       "      <td>0</td>\n",
       "      <td>0</td>\n",
       "      <td>0</td>\n",
       "      <td>0</td>\n",
       "    </tr>\n",
       "    <tr>\n",
       "      <th>3</th>\n",
       "      <td>42.30</td>\n",
       "      <td>1840.75</td>\n",
       "      <td>0</td>\n",
       "      <td>0</td>\n",
       "      <td>1</td>\n",
       "      <td>0</td>\n",
       "      <td>0</td>\n",
       "      <td>0</td>\n",
       "      <td>0</td>\n",
       "      <td>0</td>\n",
       "      <td>1</td>\n",
       "      <td>0</td>\n",
       "      <td>0</td>\n",
       "      <td>0</td>\n",
       "      <td>1</td>\n",
       "      <td>0</td>\n",
       "      <td>1</td>\n",
       "      <td>1</td>\n",
       "      <td>0</td>\n",
       "      <td>0</td>\n",
       "      <td>0</td>\n",
       "    </tr>\n",
       "    <tr>\n",
       "      <th>4</th>\n",
       "      <td>70.70</td>\n",
       "      <td>151.65</td>\n",
       "      <td>1</td>\n",
       "      <td>0</td>\n",
       "      <td>0</td>\n",
       "      <td>0</td>\n",
       "      <td>1</td>\n",
       "      <td>0</td>\n",
       "      <td>1</td>\n",
       "      <td>0</td>\n",
       "      <td>0</td>\n",
       "      <td>0</td>\n",
       "      <td>0</td>\n",
       "      <td>1</td>\n",
       "      <td>0</td>\n",
       "      <td>0</td>\n",
       "      <td>0</td>\n",
       "      <td>0</td>\n",
       "      <td>0</td>\n",
       "      <td>0</td>\n",
       "      <td>0</td>\n",
       "    </tr>\n",
       "  </tbody>\n",
       "</table>\n",
       "</div>"
      ],
      "text/plain": [
       "   MonthlyCharges  TotalCharges  Churn  SeniorCitizen  Type_One year  \\\n",
       "0           29.85         29.85      0              0              0   \n",
       "1           56.95       1889.50      0              0              1   \n",
       "2           53.85        108.15      1              0              0   \n",
       "3           42.30       1840.75      0              0              1   \n",
       "4           70.70        151.65      1              0              0   \n",
       "\n",
       "   Type_Two year  PaperlessBilling_Yes  PaymentMethod_Credit card (automatic)  \\\n",
       "0              0                     1                                      0   \n",
       "1              0                     0                                      0   \n",
       "2              0                     1                                      0   \n",
       "3              0                     0                                      0   \n",
       "4              0                     1                                      0   \n",
       "\n",
       "   PaymentMethod_Electronic check  PaymentMethod_Mailed check  gender_Male  \\\n",
       "0                               1                           0            0   \n",
       "1                               0                           1            1   \n",
       "2                               0                           1            1   \n",
       "3                               0                           0            1   \n",
       "4                               1                           0            0   \n",
       "\n",
       "   Partner_Yes  Dependents_Yes  InternetService_Fiber optic  \\\n",
       "0            1               0                            0   \n",
       "1            0               0                            0   \n",
       "2            0               0                            0   \n",
       "3            0               0                            0   \n",
       "4            0               0                            1   \n",
       "\n",
       "   OnlineSecurity_Yes  OnlineBackup_Yes  DeviceProtection_Yes  \\\n",
       "0                   0                 1                     0   \n",
       "1                   1                 0                     1   \n",
       "2                   1                 1                     0   \n",
       "3                   1                 0                     1   \n",
       "4                   0                 0                     0   \n",
       "\n",
       "   TechSupport_Yes  StreamingTV_Yes  StreamingMovies_Yes  MultipleLines_Yes  \n",
       "0                0                0                    0                  0  \n",
       "1                0                0                    0                  0  \n",
       "2                0                0                    0                  0  \n",
       "3                1                0                    0                  0  \n",
       "4                0                0                    0                  0  "
      ]
     },
     "execution_count": 13,
     "metadata": {},
     "output_type": "execute_result"
    }
   ],
   "source": [
    "# Drop unnecessary columns\n",
    "df = df.drop(columns=['customerID', 'BeginDate', 'EndDate'])\n",
    "\n",
    "# Convert categorical variables into dummy variables\n",
    "df = pd.get_dummies(df, drop_first=True)\n",
    "\n",
    "# Display first few rows of transformed dataset\n",
    "df.head()"
   ]
  },
  {
   "cell_type": "markdown",
   "metadata": {},
   "source": [
    "#### Train-Test Split "
   ]
  },
  {
   "cell_type": "code",
   "execution_count": 14,
   "metadata": {},
   "outputs": [
    {
     "data": {
      "text/plain": [
       "((5634, 20), (1409, 20))"
      ]
     },
     "execution_count": 14,
     "metadata": {},
     "output_type": "execute_result"
    }
   ],
   "source": [
    "# Define features X and target y\n",
    "X = df.drop(columns=['Churn'])  \n",
    "y = df['Churn'] \n",
    "\n",
    "# Split data into train (80%) and test (20%)\n",
    "X_train, X_test, y_train, y_test = train_test_split(X, y, test_size=0.2, random_state=42, stratify=y)\n",
    "\n",
    "# Display dataset shapes\n",
    "X_train.shape, X_test.shape"
   ]
  },
  {
   "cell_type": "markdown",
   "metadata": {},
   "source": [
    "#### Handling Numerical Features"
   ]
  },
  {
   "cell_type": "code",
   "execution_count": 15,
   "metadata": {},
   "outputs": [
    {
     "data": {
      "text/html": [
       "<div>\n",
       "<style scoped>\n",
       "    .dataframe tbody tr th:only-of-type {\n",
       "        vertical-align: middle;\n",
       "    }\n",
       "\n",
       "    .dataframe tbody tr th {\n",
       "        vertical-align: top;\n",
       "    }\n",
       "\n",
       "    .dataframe thead th {\n",
       "        text-align: right;\n",
       "    }\n",
       "</style>\n",
       "<table border=\"1\" class=\"dataframe\">\n",
       "  <thead>\n",
       "    <tr style=\"text-align: right;\">\n",
       "      <th></th>\n",
       "      <th>MonthlyCharges</th>\n",
       "      <th>TotalCharges</th>\n",
       "      <th>SeniorCitizen</th>\n",
       "      <th>Type_One year</th>\n",
       "      <th>Type_Two year</th>\n",
       "      <th>PaperlessBilling_Yes</th>\n",
       "      <th>PaymentMethod_Credit card (automatic)</th>\n",
       "      <th>PaymentMethod_Electronic check</th>\n",
       "      <th>PaymentMethod_Mailed check</th>\n",
       "      <th>gender_Male</th>\n",
       "      <th>Partner_Yes</th>\n",
       "      <th>Dependents_Yes</th>\n",
       "      <th>InternetService_Fiber optic</th>\n",
       "      <th>OnlineSecurity_Yes</th>\n",
       "      <th>OnlineBackup_Yes</th>\n",
       "      <th>DeviceProtection_Yes</th>\n",
       "      <th>TechSupport_Yes</th>\n",
       "      <th>StreamingTV_Yes</th>\n",
       "      <th>StreamingMovies_Yes</th>\n",
       "      <th>MultipleLines_Yes</th>\n",
       "    </tr>\n",
       "  </thead>\n",
       "  <tbody>\n",
       "    <tr>\n",
       "      <th>3738</th>\n",
       "      <td>-0.52</td>\n",
       "      <td>-0.26</td>\n",
       "      <td>0</td>\n",
       "      <td>0</td>\n",
       "      <td>0</td>\n",
       "      <td>0</td>\n",
       "      <td>0</td>\n",
       "      <td>1</td>\n",
       "      <td>0</td>\n",
       "      <td>1</td>\n",
       "      <td>0</td>\n",
       "      <td>0</td>\n",
       "      <td>0</td>\n",
       "      <td>0</td>\n",
       "      <td>0</td>\n",
       "      <td>1</td>\n",
       "      <td>0</td>\n",
       "      <td>1</td>\n",
       "      <td>1</td>\n",
       "      <td>0</td>\n",
       "    </tr>\n",
       "    <tr>\n",
       "      <th>3151</th>\n",
       "      <td>0.34</td>\n",
       "      <td>-0.50</td>\n",
       "      <td>0</td>\n",
       "      <td>0</td>\n",
       "      <td>0</td>\n",
       "      <td>0</td>\n",
       "      <td>0</td>\n",
       "      <td>0</td>\n",
       "      <td>1</td>\n",
       "      <td>1</td>\n",
       "      <td>1</td>\n",
       "      <td>1</td>\n",
       "      <td>1</td>\n",
       "      <td>1</td>\n",
       "      <td>0</td>\n",
       "      <td>0</td>\n",
       "      <td>0</td>\n",
       "      <td>0</td>\n",
       "      <td>0</td>\n",
       "      <td>0</td>\n",
       "    </tr>\n",
       "    <tr>\n",
       "      <th>4860</th>\n",
       "      <td>-0.81</td>\n",
       "      <td>-0.75</td>\n",
       "      <td>0</td>\n",
       "      <td>0</td>\n",
       "      <td>1</td>\n",
       "      <td>0</td>\n",
       "      <td>0</td>\n",
       "      <td>0</td>\n",
       "      <td>1</td>\n",
       "      <td>1</td>\n",
       "      <td>1</td>\n",
       "      <td>1</td>\n",
       "      <td>0</td>\n",
       "      <td>1</td>\n",
       "      <td>1</td>\n",
       "      <td>0</td>\n",
       "      <td>1</td>\n",
       "      <td>0</td>\n",
       "      <td>0</td>\n",
       "      <td>0</td>\n",
       "    </tr>\n",
       "    <tr>\n",
       "      <th>3867</th>\n",
       "      <td>0.28</td>\n",
       "      <td>-0.17</td>\n",
       "      <td>0</td>\n",
       "      <td>0</td>\n",
       "      <td>1</td>\n",
       "      <td>1</td>\n",
       "      <td>1</td>\n",
       "      <td>0</td>\n",
       "      <td>0</td>\n",
       "      <td>0</td>\n",
       "      <td>1</td>\n",
       "      <td>0</td>\n",
       "      <td>0</td>\n",
       "      <td>0</td>\n",
       "      <td>1</td>\n",
       "      <td>1</td>\n",
       "      <td>0</td>\n",
       "      <td>1</td>\n",
       "      <td>1</td>\n",
       "      <td>0</td>\n",
       "    </tr>\n",
       "    <tr>\n",
       "      <th>3810</th>\n",
       "      <td>-0.68</td>\n",
       "      <td>-0.99</td>\n",
       "      <td>0</td>\n",
       "      <td>0</td>\n",
       "      <td>0</td>\n",
       "      <td>0</td>\n",
       "      <td>0</td>\n",
       "      <td>1</td>\n",
       "      <td>0</td>\n",
       "      <td>1</td>\n",
       "      <td>1</td>\n",
       "      <td>1</td>\n",
       "      <td>0</td>\n",
       "      <td>0</td>\n",
       "      <td>0</td>\n",
       "      <td>0</td>\n",
       "      <td>0</td>\n",
       "      <td>0</td>\n",
       "      <td>0</td>\n",
       "      <td>0</td>\n",
       "    </tr>\n",
       "  </tbody>\n",
       "</table>\n",
       "</div>"
      ],
      "text/plain": [
       "      MonthlyCharges  TotalCharges  SeniorCitizen  Type_One year  \\\n",
       "3738           -0.52         -0.26              0              0   \n",
       "3151            0.34         -0.50              0              0   \n",
       "4860           -0.81         -0.75              0              0   \n",
       "3867            0.28         -0.17              0              0   \n",
       "3810           -0.68         -0.99              0              0   \n",
       "\n",
       "      Type_Two year  PaperlessBilling_Yes  \\\n",
       "3738              0                     0   \n",
       "3151              0                     0   \n",
       "4860              1                     0   \n",
       "3867              1                     1   \n",
       "3810              0                     0   \n",
       "\n",
       "      PaymentMethod_Credit card (automatic)  PaymentMethod_Electronic check  \\\n",
       "3738                                      0                               1   \n",
       "3151                                      0                               0   \n",
       "4860                                      0                               0   \n",
       "3867                                      1                               0   \n",
       "3810                                      0                               1   \n",
       "\n",
       "      PaymentMethod_Mailed check  gender_Male  Partner_Yes  Dependents_Yes  \\\n",
       "3738                           0            1            0               0   \n",
       "3151                           1            1            1               1   \n",
       "4860                           1            1            1               1   \n",
       "3867                           0            0            1               0   \n",
       "3810                           0            1            1               1   \n",
       "\n",
       "      InternetService_Fiber optic  OnlineSecurity_Yes  OnlineBackup_Yes  \\\n",
       "3738                            0                   0                 0   \n",
       "3151                            1                   1                 0   \n",
       "4860                            0                   1                 1   \n",
       "3867                            0                   0                 1   \n",
       "3810                            0                   0                 0   \n",
       "\n",
       "      DeviceProtection_Yes  TechSupport_Yes  StreamingTV_Yes  \\\n",
       "3738                     1                0                1   \n",
       "3151                     0                0                0   \n",
       "4860                     0                1                0   \n",
       "3867                     1                0                1   \n",
       "3810                     0                0                0   \n",
       "\n",
       "      StreamingMovies_Yes  MultipleLines_Yes  \n",
       "3738                    1                  0  \n",
       "3151                    0                  0  \n",
       "4860                    0                  0  \n",
       "3867                    1                  0  \n",
       "3810                    0                  0  "
      ]
     },
     "execution_count": 15,
     "metadata": {},
     "output_type": "execute_result"
    }
   ],
   "source": [
    "# Initialize scaler\n",
    "scaler = StandardScaler()\n",
    "\n",
    "# Scale only numerical columns safely\n",
    "num_cols = ['MonthlyCharges', 'TotalCharges']\n",
    "\n",
    "# Create new scaled versions to avoid SettingWithCopyWarning\n",
    "X_train_scaled = X_train.copy()\n",
    "X_test_scaled = X_test.copy()\n",
    "\n",
    "# Apply transformation\n",
    "X_train_scaled[num_cols] = scaler.fit_transform(X_train[num_cols])\n",
    "X_test_scaled[num_cols] = scaler.transform(X_test[num_cols])\n",
    "\n",
    "# Display first few rows of scaled training data\n",
    "X_train_scaled.head()"
   ]
  },
  {
   "cell_type": "markdown",
   "metadata": {},
   "source": [
    "***\n",
    "### Model Training\n",
    "- Train a baseline Logistic Regression model.\n",
    "- Evaluate performance using AUC-ROC (primary metric) and accuracy (secondary metric)."
   ]
  },
  {
   "cell_type": "code",
   "execution_count": 16,
   "metadata": {},
   "outputs": [
    {
     "name": "stdout",
     "output_type": "stream",
     "text": [
      "Linear Regression (Baseline) AUC-ROC Score: 0.8259\n",
      "Linear Regression (Baseline) Accuracy Score: 0.7878\n"
     ]
    }
   ],
   "source": [
    "# Initialize and train logistic regression model\n",
    "model = LogisticRegression(random_state=42, max_iter=1000)\n",
    "model.fit(X_train_scaled, y_train) \n",
    "\n",
    "# Predict on test set\n",
    "y_pred = model.predict(X_test_scaled) \n",
    "y_prob = model.predict_proba(X_test_scaled)[:, 1]  \n",
    "\n",
    "# Evaluate performance\n",
    "auc = roc_auc_score(y_test, y_prob)\n",
    "accuracy = accuracy_score(y_test, y_pred)\n",
    "\n",
    "# Display results\n",
    "print(f\"Linear Regression (Baseline) AUC-ROC Score: {auc:.4f}\")\n",
    "print(f\"Linear Regression (Baseline) Accuracy Score: {accuracy:.4f}\")"
   ]
  },
  {
   "cell_type": "markdown",
   "metadata": {},
   "source": [
    "#### Logistic Regression Key Findings:\n",
    "- AUC-ROC Score: 0.8259 → Strong baseline performance.\n",
    "- Accuracy Score: 0.7878 → Decent but lower than tree-based models.\n",
    "- Findings: Performs well but lacks the complexity to capture deeper patterns in customer churn.\n",
    "\n",
    "**Next: Model Optimization**\n",
    "Train Random Forest, Gradient Boosting (XGBoost, CatBoost, LightGBM), or SVM to see if they improve AUC-ROC."
   ]
  },
  {
   "cell_type": "markdown",
   "metadata": {},
   "source": [
    "#### Train a Random Forest Model"
   ]
  },
  {
   "cell_type": "code",
   "execution_count": 17,
   "metadata": {},
   "outputs": [
    {
     "name": "stdout",
     "output_type": "stream",
     "text": [
      "Random Forest AUC-ROC Score: 0.8217\n",
      "Random Forest Accuracy Score: 0.7935\n"
     ]
    }
   ],
   "source": [
    "# Initialize and train Random Forest\n",
    "rf_model = RandomForestClassifier(n_estimators=100, random_state=42)\n",
    "rf_model.fit(X_train_scaled, y_train)\n",
    "\n",
    "# Predict on test set\n",
    "y_pred_rf = rf_model.predict(X_test_scaled)\n",
    "y_prob_rf = rf_model.predict_proba(X_test_scaled)[:, 1]  \n",
    "\n",
    "# Evaluate performance\n",
    "auc_rf = roc_auc_score(y_test, y_prob_rf)\n",
    "accuracy_rf = accuracy_score(y_test, y_pred_rf)\n",
    "\n",
    "# Display results\n",
    "print(f\"Random Forest AUC-ROC Score: {auc_rf:.4f}\")\n",
    "print(f\"Random Forest Accuracy Score: {accuracy_rf:.4f}\")"
   ]
  },
  {
   "cell_type": "markdown",
   "metadata": {},
   "source": [
    "#### Random Forest Key Findings:\n",
    "- AUC-ROC Score: 0.8217 → Slightly lower than Logistic Regression.\n",
    "- Accuracy Score: 0.7935 → Slightly higher than Logistic Regression.\n",
    "- Findings: Does not significantly outperform Logistic Regression, suggesting it might not be the best choice."
   ]
  },
  {
   "cell_type": "markdown",
   "metadata": {},
   "source": [
    "#### Train a Gradient Boosting Model"
   ]
  },
  {
   "cell_type": "code",
   "execution_count": 18,
   "metadata": {},
   "outputs": [
    {
     "name": "stdout",
     "output_type": "stream",
     "text": [
      "Gradient Boosting AUC-ROC Score: 0.8411\n",
      "Gradient Boosting Accuracy Score: 0.7956\n"
     ]
    }
   ],
   "source": [
    "# Initialize and train Gradient Boosting model\n",
    "gb_model = GradientBoostingClassifier(n_estimators=100, learning_rate=0.1, random_state=42)\n",
    "gb_model.fit(X_train_scaled, y_train)\n",
    "\n",
    "# Predict on test set\n",
    "y_pred_gb = gb_model.predict(X_test_scaled)\n",
    "y_prob_gb = gb_model.predict_proba(X_test_scaled)[:, 1]\n",
    "\n",
    "# Evaluate performance\n",
    "auc_gb = roc_auc_score(y_test, y_prob_gb)\n",
    "accuracy_gb = accuracy_score(y_test, y_pred_gb)\n",
    "\n",
    "# Display results\n",
    "print(f\"Gradient Boosting AUC-ROC Score: {auc_gb:.4f}\")\n",
    "print(f\"Gradient Boosting Accuracy Score: {accuracy_gb:.4f}\")"
   ]
  },
  {
   "cell_type": "markdown",
   "metadata": {},
   "source": [
    "#### Gradient Boosting Key Findings:\n",
    "- AUC-ROC Score: 0.8411 → Best performance so far. \n",
    "- Accuracy Score: 0.7956 → Higher than Logistic Regression and Random Forest.\n",
    "- Findings: Best model for churn prediction, capturing complex relationships better than other models."
   ]
  },
  {
   "cell_type": "markdown",
   "metadata": {},
   "source": [
    "#### Train an XGBoost Model"
   ]
  },
  {
   "cell_type": "code",
   "execution_count": 19,
   "metadata": {},
   "outputs": [
    {
     "name": "stdout",
     "output_type": "stream",
     "text": [
      "XGBoost AUC-ROC Score: 0.8363\n",
      "XGBoost Accuracy Score: 0.8027\n"
     ]
    }
   ],
   "source": [
    "# Initialize and train XGBoost model\n",
    "xgb_model = XGBClassifier(n_estimators=100, learning_rate=0.1, use_label_encoder=False, eval_metric='logloss', random_state=42)\n",
    "xgb_model.fit(X_train_scaled, y_train)\n",
    "\n",
    "# Predict on test set\n",
    "y_pred_xgb = xgb_model.predict(X_test_scaled)\n",
    "y_prob_xgb = xgb_model.predict_proba(X_test_scaled)[:, 1]\n",
    "\n",
    "# Evaluate performance\n",
    "auc_xgb = roc_auc_score(y_test, y_prob_xgb)\n",
    "accuracy_xgb = accuracy_score(y_test, y_pred_xgb)\n",
    "\n",
    "# Display results\n",
    "print(f\"XGBoost AUC-ROC Score: {auc_xgb:.4f}\")\n",
    "print(f\"XGBoost Accuracy Score: {accuracy_xgb:.4f}\")"
   ]
  },
  {
   "cell_type": "markdown",
   "metadata": {},
   "source": [
    "#### XGBoost Key Findings:\n",
    "- AUC-ROC Score: 0.8363 → Slightly lower than Gradient Boosting (0.8411), but still strong.\n",
    "- Accuracy Score: 0.8027 → The highest among all models tested.\n",
    "- Performs better than Random Forest and Logistic Regression, but slightly behind Gradient Boosting in AUC-ROC.\n",
    "- **Conclusion**: XGBoost is a strong model, but Gradient Boosting remains the best choice for churn prediction due to its higher AUC-ROC.\n",
    "\n",
    "**Final Decision:**\n",
    "- Since AUC-ROC is our primary metric, **Gradient Boosting** is the best model so far."
   ]
  },
  {
   "cell_type": "markdown",
   "metadata": {},
   "source": [
    "***\n",
    "### Final Evaluation & Conclusion\n",
    "- Train additional models (CatBoost, LightGBM, SVM).\n",
    "- Hyperparameter tuning (GridSearchCV, RandomizedSearchCV).\n",
    "- Handling class imbalance (if needed).\n",
    "- Compare model results and finalize the best approach.\n",
    "- Summarize key findings and recommendations."
   ]
  },
  {
   "cell_type": "markdown",
   "metadata": {},
   "source": [
    "#### Train a CatBoost Model"
   ]
  },
  {
   "cell_type": "code",
   "execution_count": 20,
   "metadata": {},
   "outputs": [
    {
     "name": "stdout",
     "output_type": "stream",
     "text": [
      "CatBoost AUC-ROC Score: 0.8410\n",
      "CatBoost Accuracy Score: 0.8013\n"
     ]
    }
   ],
   "source": [
    "# Initialize and train CatBoost\n",
    "cat_model = CatBoostClassifier(iterations=100, learning_rate=0.1, depth=6, verbose=0, random_state=42)\n",
    "cat_model.fit(X_train_scaled, y_train)\n",
    "\n",
    "# Predict on test set\n",
    "y_pred_cat = cat_model.predict(X_test_scaled)\n",
    "y_prob_cat = cat_model.predict_proba(X_test_scaled)[:, 1]\n",
    "\n",
    "# Evaluate performance\n",
    "auc_cat = roc_auc_score(y_test, y_prob_cat)\n",
    "accuracy_cat = accuracy_score(y_test, y_pred_cat)\n",
    "\n",
    "# Display results\n",
    "print(f\"CatBoost AUC-ROC Score: {auc_cat:.4f}\")\n",
    "print(f\"CatBoost Accuracy Score: {accuracy_cat:.4f}\")"
   ]
  },
  {
   "cell_type": "markdown",
   "metadata": {},
   "source": [
    "#### CatBoost Key Findings\n",
    "- AUC-ROC Score: 0.8410 → Tied with Gradient Boosting (0.8411) for best performance.\n",
    "- Accuracy Score: 0.8013 → Slightly lower than XGBoost (0.8027) but higher than other models.\n",
    "- Findings: CatBoost is one of the top-performing models, matching Gradient Boosting in AUC-ROC while maintaining high accuracy.\n",
    "- Conclusion: CatBoost is a strong contender for the final model, but further evaluation (hyperparameter tuning) is needed to determine if it outperforms Gradient Boosting."
   ]
  },
  {
   "cell_type": "markdown",
   "metadata": {},
   "source": [
    "#### Train a LightGBM Model"
   ]
  },
  {
   "cell_type": "code",
   "execution_count": 21,
   "metadata": {},
   "outputs": [
    {
     "name": "stdout",
     "output_type": "stream",
     "text": [
      "LightGBM AUC-ROC Score: 0.8268\n",
      "LightGBM Accuracy Score: 0.7913\n"
     ]
    }
   ],
   "source": [
    "# Initialize and train LightGBM model\n",
    "lgbm_model = LGBMClassifier(n_estimators=100, learning_rate=0.1, random_state=42)\n",
    "lgbm_model.fit(X_train_scaled, y_train)\n",
    "\n",
    "# Predict on test set\n",
    "y_pred_lgbm = lgbm_model.predict(X_test_scaled)\n",
    "y_prob_lgbm = lgbm_model.predict_proba(X_test_scaled)[:, 1]\n",
    "\n",
    "# Evaluate performance\n",
    "auc_lgbm = roc_auc_score(y_test, y_prob_lgbm)\n",
    "accuracy_lgbm = accuracy_score(y_test, y_pred_lgbm)\n",
    "\n",
    "# Display results\n",
    "print(f\"LightGBM AUC-ROC Score: {auc_lgbm:.4f}\")\n",
    "print(f\"LightGBM Accuracy Score: {accuracy_lgbm:.4f}\")"
   ]
  },
  {
   "cell_type": "markdown",
   "metadata": {},
   "source": [
    "#### LightGBM Key Findings\n",
    "- AUC-ROC Score: 0.8268 → Lower than Gradient Boosting (0.8411) and CatBoost (0.8410).\n",
    "- Accuracy Score: 0.7913 → Similar to Random Forest and Logistic Regression, but lower than XGBoost (0.8027).\n",
    "- Findings: LightGBM does not outperform Gradient Boosting or CatBoost, making it a weaker candidate for final model selection.\n",
    "- Conclusion: While LightGBM is a solid model, it does not improve upon the best models (Gradient Boosting & CatBoost)."
   ]
  },
  {
   "cell_type": "markdown",
   "metadata": {},
   "source": [
    "#### Train an SVM Model"
   ]
  },
  {
   "cell_type": "code",
   "execution_count": 22,
   "metadata": {},
   "outputs": [
    {
     "name": "stdout",
     "output_type": "stream",
     "text": [
      "SVM AUC-ROC Score: 0.7965\n",
      "SVM Accuracy Score: 0.7885\n"
     ]
    }
   ],
   "source": [
    "# Initialize and train SVM model\n",
    "svm_model = SVC(probability=True, random_state=42)\n",
    "svm_model.fit(X_train_scaled, y_train)\n",
    "\n",
    "# Predict on test set\n",
    "y_pred_svm = svm_model.predict(X_test_scaled)\n",
    "y_prob_svm = svm_model.predict_proba(X_test_scaled)[:, 1]\n",
    "\n",
    "# Evaluate performance\n",
    "auc_svm = roc_auc_score(y_test, y_prob_svm)\n",
    "accuracy_svm = accuracy_score(y_test, y_pred_svm)\n",
    "\n",
    "# Display results\n",
    "print(f\"SVM AUC-ROC Score: {auc_svm:.4f}\")\n",
    "print(f\"SVM Accuracy Score: {accuracy_svm:.4f}\")"
   ]
  },
  {
   "cell_type": "markdown",
   "metadata": {},
   "source": [
    "#### SVM Key Findings\n",
    "- AUC-ROC Score: 0.7965 → The lowest AUC-ROC score among all models tested.\n",
    "- Accuracy Score: 0.7885 → Similar to Logistic Regression but lower than XGBoost (0.8027) and Gradient Boosting (0.7956).\n",
    "- Findings: SVM performs worse than boosting models, likely due to its inability to handle complex feature interactions effectively in this dataset.\n",
    "- Conclusion: SVM is not a suitable model for this churn prediction task, as it does not improve AUC-ROC over other models."
   ]
  },
  {
   "cell_type": "markdown",
   "metadata": {},
   "source": [
    "#### Final Model Comparison & Best Model Selection\n",
    "We tested multiple machine learning models to predict customer churn, evaluating each using AUC-ROC (primary metric) and accuracy (secondary metric). Below is a summary of their performance:\n",
    "\n",
    "         Model\t            AUC-ROC Score     \t Accuracy Score\n",
    "    Logistic Regression----------0.8259-----------------0.7878\n",
    "    Random Forest----------------0.8217-----------------0.7935\n",
    "    Gradient Boosting------------0.8411-----------------0.7956\n",
    "    XGBoost----------------------0.8363-----------------0.8027\n",
    "    CatBoost---------------------0.8410-----------------0.8013\n",
    "    LightGBM---------------------0.8268-----------------0.7913\n",
    "    SVM--------------------------0.7965-----------------0.7885\n",
    "    \n",
    "**Key Insights:**\n",
    "- Gradient Boosting (0.8411) and CatBoost (0.8410) achieved the highest AUC-ROC scores, making them the best models for churn prediction.\n",
    "- XGBoost (0.8363) had slightly lower AUC-ROC but the highest accuracy (0.8027), making it a strong alternative.\n",
    "- Random Forest, Logistic Regression, and LightGBM did not significantly improve performance over Gradient Boosting.\n",
    "- SVM had the lowest AUC-ROC (0.7965), confirming that it is not suitable for this task.\n",
    "- **Gradient Boosting** and **CatBoost** are the best models for predicting churn, with the highest AUC-ROC scores.\n",
    "- **XGBoost** is a close second, offering the highest accuracy but slightly lower AUC-ROC."
   ]
  },
  {
   "cell_type": "markdown",
   "metadata": {},
   "source": [
    "#### Hyperparameter Tuning for Gradient Boosting & CatBoost\n",
    "We'll tune the following parameters:\n",
    "\n",
    "- Gradient Boosting (`GradientBoostingClassifier`)\n",
    "\n",
    "    - `n_estimators`: Number of boosting stages\n",
    "    - `learning_rate`: Step size shrinkage to prevent overfitting\n",
    "    - `max_depth`: Maximum depth of each tree\n",
    "    \n",
    "    \n",
    "- CatBoost (`CatBoostClassifier`)\n",
    "\n",
    "    - `iterations`: Number of boosting iterations\n",
    "    - `learning_rate`: Learning rate for model updates\n",
    "    - `depth`: Depth of each tree"
   ]
  },
  {
   "cell_type": "code",
   "execution_count": 23,
   "metadata": {},
   "outputs": [],
   "source": [
    "# Define parameter grid for Gradient Boosting\n",
    "gb_param_grid = {\n",
    "    'n_estimators': [100, 200, 300],\n",
    "    'learning_rate': [0.05, 0.1, 0.2],\n",
    "    'max_depth': [3, 5, 7]\n",
    "}\n",
    "\n",
    "# Define parameter grid for CatBoost\n",
    "cat_param_grid = {\n",
    "    'iterations': [100, 200, 300],\n",
    "    'learning_rate': [0.05, 0.1, 0.2],\n",
    "    'depth': [4, 6, 8]\n",
    "}"
   ]
  },
  {
   "cell_type": "code",
   "execution_count": 24,
   "metadata": {},
   "outputs": [],
   "source": [
    "# Initialize models\n",
    "gb_model = GradientBoostingClassifier(random_state=42)\n",
    "cat_model = CatBoostClassifier(verbose=0, random_state=42)\n",
    "\n",
    "# Initialize GridSearchCV\n",
    "gb_grid_search = GridSearchCV(gb_model, gb_param_grid, cv=3, scoring='roc_auc', n_jobs=-1, verbose=1)\n",
    "cat_grid_search = GridSearchCV(cat_model, cat_param_grid, cv=3, scoring='roc_auc', n_jobs=-1, verbose=1)"
   ]
  },
  {
   "cell_type": "code",
   "execution_count": 25,
   "metadata": {},
   "outputs": [
    {
     "name": "stdout",
     "output_type": "stream",
     "text": [
      "Fitting 3 folds for each of 27 candidates, totalling 81 fits\n",
      "Fitting 3 folds for each of 27 candidates, totalling 81 fits\n"
     ]
    },
    {
     "data": {
      "text/plain": [
       "GridSearchCV(cv=3,\n",
       "             estimator=<catboost.core.CatBoostClassifier object at 0x7f8a951659a0>,\n",
       "             n_jobs=-1,\n",
       "             param_grid={'depth': [4, 6, 8], 'iterations': [100, 200, 300],\n",
       "                         'learning_rate': [0.05, 0.1, 0.2]},\n",
       "             scoring='roc_auc', verbose=1)"
      ]
     },
     "execution_count": 25,
     "metadata": {},
     "output_type": "execute_result"
    }
   ],
   "source": [
    "# Fit GridSearchCV for Gradient Boosting\n",
    "gb_grid_search.fit(X_train_scaled, y_train)\n",
    "\n",
    "# Fit GridSearchCV for CatBoost\n",
    "cat_grid_search.fit(X_train_scaled, y_train)"
   ]
  },
  {
   "cell_type": "code",
   "execution_count": 26,
   "metadata": {},
   "outputs": [
    {
     "name": "stdout",
     "output_type": "stream",
     "text": [
      "Best Gradient Boosting Parameters: {'learning_rate': 0.05, 'max_depth': 3, 'n_estimators': 100}\n",
      "Best Gradient Boosting AUC-ROC: 0.8446966382759995\n",
      "Best CatBoost Parameters: {'depth': 4, 'iterations': 200, 'learning_rate': 0.05}\n",
      "Best CatBoost AUC-ROC: 0.8496082829005385\n"
     ]
    }
   ],
   "source": [
    "# Get best parameters and scores for Gradient Boosting\n",
    "print(\"Best Gradient Boosting Parameters:\", gb_grid_search.best_params_)\n",
    "print(\"Best Gradient Boosting AUC-ROC:\", gb_grid_search.best_score_)\n",
    "\n",
    "# Get best parameters and scores for CatBoost\n",
    "print(\"Best CatBoost Parameters:\", cat_grid_search.best_params_)\n",
    "print(\"Best CatBoost AUC-ROC:\", cat_grid_search.best_score_)"
   ]
  },
  {
   "cell_type": "markdown",
   "metadata": {},
   "source": [
    "#### Hyperparameter Tuning Results for Gradient Boosting & CatBoost\n",
    "         Model\t                       Best Parameters\t                    Best AUC-ROC Score\n",
    "    Gradient Boosting------learning_rate=0.05, max_depth=3, n_estimators=100----------0.8447\n",
    "    CatBoost---------------depth=4, iterations=200, learning_rate=0.05----------------0.8496\n",
    "\n",
    "**Key Findings:**\n",
    "- CatBoost achieved the highest AUC-ROC (0.8496) after tuning, making it the best-performing model.\n",
    "- Gradient Boosting improved to 0.8447, but it still falls slightly behind CatBoost.\n",
    "- Both models benefited from a lower learning rate (0.05), reducing overfitting.\n",
    "- Shallower trees (max_depth=3 for Gradient Boosting, depth=4 for CatBoost) led to better generalization.\n",
    "\n",
    "**Final Decision:**\n",
    "- **CatBoost** is the best-performing model with the highest AUC-ROC (0.8496).\n",
    "- Gradient Boosting is a strong alternative but slightly underperforms CatBoost.\n",
    "- Other models tested earlier did not outperform these boosting models."
   ]
  },
  {
   "cell_type": "markdown",
   "metadata": {},
   "source": [
    "***\n",
    "### Final Model Training & Evaluation\n",
    "- Retrain both models using the best hyperparameters.\n",
    "- Evaluate their final performance on the test set.\n",
    "- Compare their final results to determine the most optimal model."
   ]
  },
  {
   "cell_type": "markdown",
   "metadata": {},
   "source": [
    "#### Train CatBoost with Best Parameters"
   ]
  },
  {
   "cell_type": "code",
   "execution_count": 27,
   "metadata": {},
   "outputs": [
    {
     "name": "stdout",
     "output_type": "stream",
     "text": [
      "Final CatBoost AUC-ROC Score: 0.8453\n",
      "Final CatBoost Accuracy Score: 0.8034\n"
     ]
    }
   ],
   "source": [
    "# Initialize CatBoost with best parameters\n",
    "final_cat_model = CatBoostClassifier(iterations=200, learning_rate=0.05, depth=4, verbose=0, random_state=42)\n",
    "final_cat_model.fit(X_train_scaled, y_train)\n",
    "\n",
    "# Predict on test set\n",
    "y_pred_final_cat = final_cat_model.predict(X_test_scaled)\n",
    "y_prob_final_cat = final_cat_model.predict_proba(X_test_scaled)[:, 1]\n",
    "\n",
    "# Evaluate performance\n",
    "auc_final_cat = roc_auc_score(y_test, y_prob_final_cat)\n",
    "accuracy_final_cat = accuracy_score(y_test, y_pred_final_cat)\n",
    "\n",
    "# Display results\n",
    "print(f\"Final CatBoost AUC-ROC Score: {auc_final_cat:.4f}\")\n",
    "print(f\"Final CatBoost Accuracy Score: {accuracy_final_cat:.4f}\")"
   ]
  },
  {
   "cell_type": "markdown",
   "metadata": {},
   "source": [
    "#### Train Gradient Boosting with Best Parameters"
   ]
  },
  {
   "cell_type": "code",
   "execution_count": 28,
   "metadata": {},
   "outputs": [
    {
     "name": "stdout",
     "output_type": "stream",
     "text": [
      "Final Gradient Boosting AUC-ROC Score: 0.8452\n",
      "Final Gradient Boosting Accuracy Score: 0.7942\n"
     ]
    }
   ],
   "source": [
    "# Initialize Gradient Boosting with best parameters\n",
    "final_gb_model = GradientBoostingClassifier(n_estimators=100, learning_rate=0.05, max_depth=3, random_state=42)\n",
    "final_gb_model.fit(X_train_scaled, y_train)\n",
    "\n",
    "# Predict on test set\n",
    "y_pred_final_gb = final_gb_model.predict(X_test_scaled)\n",
    "y_prob_final_gb = final_gb_model.predict_proba(X_test_scaled)[:, 1]\n",
    "\n",
    "# Evaluate performance\n",
    "auc_final_gb = roc_auc_score(y_test, y_prob_final_gb)\n",
    "accuracy_final_gb = accuracy_score(y_test, y_pred_final_gb)\n",
    "\n",
    "# Display results\n",
    "print(f\"Final Gradient Boosting AUC-ROC Score: {auc_final_gb:.4f}\")\n",
    "print(f\"Final Gradient Boosting Accuracy Score: {accuracy_final_gb:.4f}\")"
   ]
  },
  {
   "cell_type": "markdown",
   "metadata": {},
   "source": [
    "#### Final Model Performance Comparison Key Findings:\n",
    "- CatBoost slightly outperforms Gradient Boosting in AUC-ROC (0.8453 vs. 0.8452).\n",
    "- CatBoost achieves the highest accuracy (0.8034), meaning it predicts churn correctly more often.\n",
    "- Gradient Boosting performs almost identically in AUC-ROC but has a lower accuracy (0.7942).\n",
    "\n",
    "Final Decision: **CatBoost Wins** with a Final AUC-ROC Score of **0.8453** & Final Accuracy Score of **0.8034**.\n",
    "\n",
    "CatBoost is the best model for churn prediction, offering:\n",
    "- The highest AUC-ROC (0.8453) (best ability to distinguish churners from non-churners).\n",
    "- The highest accuracy (0.8034), making it the most reliable model overall.\n",
    "- Gradient Boosting is a strong alternative but does not surpass CatBoost."
   ]
  },
  {
   "cell_type": "markdown",
   "metadata": {},
   "source": [
    "***\n",
    "#### Clarifying Questions for the Team Leader\n",
    "- What is the intended integration plan for the churn prediction model? \n",
    "- Should we consider cost-sensitive modeling? (like penalizing false negatives more than false positives)\n",
    "- Do we have real-time customer data available? (to make the model dynamic and continuously updated)\n",
    "- Are there additional business constraints to consider? (like budget limitations for incentives)\n",
    "- What success metrics should we track post-implementation? (like reduction in churn rate over time)\n",
    "\n",
    "#### Work Plan for Solving the Task\n",
    "**Step 1: Exploratory Data Analysis (EDA)**\n",
    "\n",
    "- Analyze customer demographics, service usage, and contract details to identify trends in churn vs. non-churn customers.\n",
    "- Use visualizations and statistical analysis to detect key churn indicators.\n",
    "\n",
    "**Step 2: Data Preprocessing & Feature Engineering**\n",
    "\n",
    "- Merge all datasets, handle missing values, and encode categorical variables.\n",
    "- Scale numerical features (MonthlyCharges, TotalCharges) to ensure consistency across models.\n",
    "\n",
    "**Step 3: Train & Evaluate Machine Learning Models**\n",
    "\n",
    "- Train multiple models, including Logistic Regression, Random Forest, XGBoost, CatBoost, and Gradient Boosting.\n",
    "- Compare performance using AUC-ROC (primary metric) and accuracy (secondary metric) to select the best model.\n",
    "\n",
    "**Step 4: Hyperparameter Tuning for the Best Models**\n",
    "\n",
    "- Use GridSearchCV to optimize hyperparameters for Gradient Boosting and CatBoost.\n",
    "- Retrain the models with the best parameters and finalize the best-performing model.\n",
    "\n",
    "**Step 5: Model Deployment & Business Recommendations**\n",
    "\n",
    "- Deploy the best model (CatBoost) for predicting churn risk.\n",
    "- Provide targeted retention strategies based on model insights (e.g., discounts, customer outreach, service improvements).\n",
    "***"
   ]
  }
 ],
 "metadata": {
  "ExecuteTimeLog": [
   {
    "duration": 2936,
    "start_time": "2025-02-19T14:50:11.773Z"
   },
   {
    "duration": 710,
    "start_time": "2025-02-19T14:50:14.711Z"
   },
   {
    "duration": 62,
    "start_time": "2025-02-19T14:50:28.365Z"
   },
   {
    "duration": 3,
    "start_time": "2025-02-19T14:55:00.399Z"
   },
   {
    "duration": 106,
    "start_time": "2025-02-19T14:55:00.780Z"
   },
   {
    "duration": 14,
    "start_time": "2025-02-19T14:55:26.371Z"
   },
   {
    "duration": 14,
    "start_time": "2025-02-19T15:05:50.087Z"
   },
   {
    "duration": 7,
    "start_time": "2025-02-19T15:05:50.524Z"
   },
   {
    "duration": 5,
    "start_time": "2025-02-19T15:25:44.777Z"
   },
   {
    "duration": 25,
    "start_time": "2025-02-19T15:27:50.468Z"
   },
   {
    "duration": 18,
    "start_time": "2025-02-19T15:32:28.962Z"
   },
   {
    "duration": 12,
    "start_time": "2025-02-19T15:32:29.767Z"
   },
   {
    "duration": 101,
    "start_time": "2025-02-19T15:32:30.702Z"
   },
   {
    "duration": 300,
    "start_time": "2025-02-19T16:25:57.690Z"
   },
   {
    "duration": 162,
    "start_time": "2025-02-19T16:25:58.436Z"
   },
   {
    "duration": 45,
    "start_time": "2025-02-19T16:30:50.341Z"
   },
   {
    "duration": 16,
    "start_time": "2025-02-19T16:40:54.984Z"
   },
   {
    "duration": 1049,
    "start_time": "2025-02-19T16:41:34.671Z"
   },
   {
    "duration": 95,
    "start_time": "2025-02-19T16:41:35.723Z"
   },
   {
    "duration": 14,
    "start_time": "2025-02-19T16:41:35.820Z"
   },
   {
    "duration": 34,
    "start_time": "2025-02-19T16:41:35.836Z"
   },
   {
    "duration": 6,
    "start_time": "2025-02-19T16:41:35.877Z"
   },
   {
    "duration": 4,
    "start_time": "2025-02-19T16:41:35.885Z"
   },
   {
    "duration": 20,
    "start_time": "2025-02-19T16:41:35.891Z"
   },
   {
    "duration": 15,
    "start_time": "2025-02-19T16:41:35.912Z"
   },
   {
    "duration": 33,
    "start_time": "2025-02-19T16:41:35.929Z"
   },
   {
    "duration": 107,
    "start_time": "2025-02-19T16:41:35.964Z"
   },
   {
    "duration": 293,
    "start_time": "2025-02-19T16:41:36.073Z"
   },
   {
    "duration": 127,
    "start_time": "2025-02-19T16:41:36.368Z"
   },
   {
    "duration": 25,
    "start_time": "2025-02-19T16:41:36.496Z"
   },
   {
    "duration": 20,
    "start_time": "2025-02-19T16:41:36.524Z"
   },
   {
    "duration": 34,
    "start_time": "2025-02-19T16:41:36.545Z"
   },
   {
    "duration": 9,
    "start_time": "2025-02-19T16:42:57.482Z"
   },
   {
    "duration": 18,
    "start_time": "2025-02-19T16:42:59.579Z"
   },
   {
    "duration": 25,
    "start_time": "2025-02-19T16:46:26.553Z"
   },
   {
    "duration": 1082,
    "start_time": "2025-02-19T16:46:39.516Z"
   },
   {
    "duration": 62,
    "start_time": "2025-02-19T16:46:40.600Z"
   },
   {
    "duration": 16,
    "start_time": "2025-02-19T16:46:40.668Z"
   },
   {
    "duration": 14,
    "start_time": "2025-02-19T16:46:40.687Z"
   },
   {
    "duration": 7,
    "start_time": "2025-02-19T16:46:40.702Z"
   },
   {
    "duration": 4,
    "start_time": "2025-02-19T16:46:40.710Z"
   },
   {
    "duration": 48,
    "start_time": "2025-02-19T16:46:40.716Z"
   },
   {
    "duration": 23,
    "start_time": "2025-02-19T16:46:40.766Z"
   },
   {
    "duration": 12,
    "start_time": "2025-02-19T16:46:40.790Z"
   },
   {
    "duration": 112,
    "start_time": "2025-02-19T16:46:40.805Z"
   },
   {
    "duration": 348,
    "start_time": "2025-02-19T16:46:40.919Z"
   },
   {
    "duration": 128,
    "start_time": "2025-02-19T16:46:41.269Z"
   },
   {
    "duration": 29,
    "start_time": "2025-02-19T16:46:41.399Z"
   },
   {
    "duration": 33,
    "start_time": "2025-02-19T16:46:41.431Z"
   },
   {
    "duration": 21,
    "start_time": "2025-02-19T16:46:41.466Z"
   },
   {
    "duration": 358,
    "start_time": "2025-02-19T16:46:41.489Z"
   },
   {
    "duration": 24,
    "start_time": "2025-02-19T16:50:55.315Z"
   },
   {
    "duration": 85,
    "start_time": "2025-02-19T16:50:56.505Z"
   },
   {
    "duration": 1101,
    "start_time": "2025-02-19T16:51:06.461Z"
   },
   {
    "duration": 59,
    "start_time": "2025-02-19T16:51:07.567Z"
   },
   {
    "duration": 23,
    "start_time": "2025-02-19T16:51:07.627Z"
   },
   {
    "duration": 23,
    "start_time": "2025-02-19T16:51:07.651Z"
   },
   {
    "duration": 7,
    "start_time": "2025-02-19T16:51:07.677Z"
   },
   {
    "duration": 5,
    "start_time": "2025-02-19T16:51:07.686Z"
   },
   {
    "duration": 20,
    "start_time": "2025-02-19T16:51:07.692Z"
   },
   {
    "duration": 56,
    "start_time": "2025-02-19T16:51:07.714Z"
   },
   {
    "duration": 13,
    "start_time": "2025-02-19T16:51:07.772Z"
   },
   {
    "duration": 108,
    "start_time": "2025-02-19T16:51:07.786Z"
   },
   {
    "duration": 280,
    "start_time": "2025-02-19T16:51:07.896Z"
   },
   {
    "duration": 126,
    "start_time": "2025-02-19T16:51:08.177Z"
   },
   {
    "duration": 26,
    "start_time": "2025-02-19T16:51:08.305Z"
   },
   {
    "duration": 21,
    "start_time": "2025-02-19T16:51:08.355Z"
   },
   {
    "duration": 16,
    "start_time": "2025-02-19T16:51:08.378Z"
   },
   {
    "duration": 149,
    "start_time": "2025-02-19T16:51:08.396Z"
   },
   {
    "duration": 262,
    "start_time": "2025-02-19T16:59:16.576Z"
   },
   {
    "duration": 1111,
    "start_time": "2025-02-19T16:59:21.521Z"
   },
   {
    "duration": 82,
    "start_time": "2025-02-19T16:59:22.635Z"
   },
   {
    "duration": 13,
    "start_time": "2025-02-19T16:59:22.719Z"
   },
   {
    "duration": 14,
    "start_time": "2025-02-19T16:59:22.734Z"
   },
   {
    "duration": 12,
    "start_time": "2025-02-19T16:59:22.750Z"
   },
   {
    "duration": 8,
    "start_time": "2025-02-19T16:59:22.767Z"
   },
   {
    "duration": 27,
    "start_time": "2025-02-19T16:59:22.777Z"
   },
   {
    "duration": 19,
    "start_time": "2025-02-19T16:59:22.806Z"
   },
   {
    "duration": 34,
    "start_time": "2025-02-19T16:59:22.826Z"
   },
   {
    "duration": 120,
    "start_time": "2025-02-19T16:59:22.864Z"
   },
   {
    "duration": 290,
    "start_time": "2025-02-19T16:59:22.986Z"
   },
   {
    "duration": 132,
    "start_time": "2025-02-19T16:59:23.278Z"
   },
   {
    "duration": 25,
    "start_time": "2025-02-19T16:59:23.412Z"
   },
   {
    "duration": 36,
    "start_time": "2025-02-19T16:59:23.438Z"
   },
   {
    "duration": 17,
    "start_time": "2025-02-19T16:59:23.476Z"
   },
   {
    "duration": 92,
    "start_time": "2025-02-19T16:59:23.495Z"
   },
   {
    "duration": 629,
    "start_time": "2025-02-19T16:59:23.589Z"
   },
   {
    "duration": 136,
    "start_time": "2025-02-19T17:00:21.733Z"
   },
   {
    "duration": 471,
    "start_time": "2025-02-19T17:00:23.572Z"
   },
   {
    "duration": 275,
    "start_time": "2025-02-19T17:02:04.618Z"
   },
   {
    "duration": 1119,
    "start_time": "2025-02-19T17:02:08.835Z"
   },
   {
    "duration": 64,
    "start_time": "2025-02-19T17:02:09.956Z"
   },
   {
    "duration": 13,
    "start_time": "2025-02-19T17:02:10.022Z"
   },
   {
    "duration": 31,
    "start_time": "2025-02-19T17:02:10.038Z"
   },
   {
    "duration": 10,
    "start_time": "2025-02-19T17:02:10.072Z"
   },
   {
    "duration": 5,
    "start_time": "2025-02-19T17:02:10.083Z"
   },
   {
    "duration": 20,
    "start_time": "2025-02-19T17:02:10.089Z"
   },
   {
    "duration": 16,
    "start_time": "2025-02-19T17:02:10.110Z"
   },
   {
    "duration": 34,
    "start_time": "2025-02-19T17:02:10.128Z"
   },
   {
    "duration": 128,
    "start_time": "2025-02-19T17:02:10.165Z"
   },
   {
    "duration": 298,
    "start_time": "2025-02-19T17:02:10.295Z"
   },
   {
    "duration": 126,
    "start_time": "2025-02-19T17:02:10.594Z"
   },
   {
    "duration": 31,
    "start_time": "2025-02-19T17:02:10.722Z"
   },
   {
    "duration": 18,
    "start_time": "2025-02-19T17:02:10.756Z"
   },
   {
    "duration": 22,
    "start_time": "2025-02-19T17:02:10.779Z"
   },
   {
    "duration": 183,
    "start_time": "2025-02-19T17:02:10.803Z"
   },
   {
    "duration": 601,
    "start_time": "2025-02-19T17:02:10.987Z"
   },
   {
    "duration": 644,
    "start_time": "2025-02-19T17:02:11.590Z"
   },
   {
    "duration": 1131,
    "start_time": "2025-02-19T17:04:31.707Z"
   },
   {
    "duration": 68,
    "start_time": "2025-02-19T17:04:32.840Z"
   },
   {
    "duration": 14,
    "start_time": "2025-02-19T17:04:32.910Z"
   },
   {
    "duration": 24,
    "start_time": "2025-02-19T17:04:32.927Z"
   },
   {
    "duration": 9,
    "start_time": "2025-02-19T17:04:32.953Z"
   },
   {
    "duration": 9,
    "start_time": "2025-02-19T17:04:32.968Z"
   },
   {
    "duration": 26,
    "start_time": "2025-02-19T17:04:32.979Z"
   },
   {
    "duration": 18,
    "start_time": "2025-02-19T17:04:33.007Z"
   },
   {
    "duration": 29,
    "start_time": "2025-02-19T17:04:33.055Z"
   },
   {
    "duration": 101,
    "start_time": "2025-02-19T17:04:33.088Z"
   },
   {
    "duration": 283,
    "start_time": "2025-02-19T17:04:33.191Z"
   },
   {
    "duration": 128,
    "start_time": "2025-02-19T17:04:33.478Z"
   },
   {
    "duration": 25,
    "start_time": "2025-02-19T17:04:33.608Z"
   },
   {
    "duration": 16,
    "start_time": "2025-02-19T17:04:33.636Z"
   },
   {
    "duration": 33,
    "start_time": "2025-02-19T17:04:33.653Z"
   },
   {
    "duration": 82,
    "start_time": "2025-02-19T17:04:33.688Z"
   },
   {
    "duration": 596,
    "start_time": "2025-02-19T17:04:33.778Z"
   },
   {
    "duration": 624,
    "start_time": "2025-02-19T17:04:34.376Z"
   },
   {
    "duration": 5589,
    "start_time": "2025-02-19T17:04:35.001Z"
   },
   {
    "duration": 502,
    "start_time": "2025-02-19T17:09:43.008Z"
   },
   {
    "duration": 648,
    "start_time": "2025-02-19T17:09:44.520Z"
   },
   {
    "duration": 6907,
    "start_time": "2025-02-19T17:09:48.467Z"
   },
   {
    "duration": 283,
    "start_time": "2025-02-19T17:17:02.395Z"
   },
   {
    "duration": 1174,
    "start_time": "2025-02-19T17:17:07.584Z"
   },
   {
    "duration": 57,
    "start_time": "2025-02-19T17:17:08.768Z"
   },
   {
    "duration": 13,
    "start_time": "2025-02-19T17:17:08.827Z"
   },
   {
    "duration": 24,
    "start_time": "2025-02-19T17:17:08.842Z"
   },
   {
    "duration": 14,
    "start_time": "2025-02-19T17:17:08.869Z"
   },
   {
    "duration": 5,
    "start_time": "2025-02-19T17:17:08.884Z"
   },
   {
    "duration": 20,
    "start_time": "2025-02-19T17:17:08.891Z"
   },
   {
    "duration": 43,
    "start_time": "2025-02-19T17:17:08.913Z"
   },
   {
    "duration": 22,
    "start_time": "2025-02-19T17:17:08.958Z"
   },
   {
    "duration": 111,
    "start_time": "2025-02-19T17:17:08.984Z"
   },
   {
    "duration": 287,
    "start_time": "2025-02-19T17:17:09.098Z"
   },
   {
    "duration": 126,
    "start_time": "2025-02-19T17:17:09.387Z"
   },
   {
    "duration": 38,
    "start_time": "2025-02-19T17:17:09.515Z"
   },
   {
    "duration": 12,
    "start_time": "2025-02-19T17:17:09.561Z"
   },
   {
    "duration": 21,
    "start_time": "2025-02-19T17:17:09.575Z"
   },
   {
    "duration": 248,
    "start_time": "2025-02-19T17:17:09.598Z"
   },
   {
    "duration": 567,
    "start_time": "2025-02-19T17:17:09.855Z"
   },
   {
    "duration": 657,
    "start_time": "2025-02-19T17:17:10.424Z"
   },
   {
    "duration": 3478,
    "start_time": "2025-02-19T17:17:11.084Z"
   },
   {
    "duration": 541,
    "start_time": "2025-02-19T17:17:14.567Z"
   },
   {
    "duration": 1145,
    "start_time": "2025-02-19T17:20:17.772Z"
   },
   {
    "duration": 62,
    "start_time": "2025-02-19T17:20:18.919Z"
   },
   {
    "duration": 13,
    "start_time": "2025-02-19T17:20:18.983Z"
   },
   {
    "duration": 13,
    "start_time": "2025-02-19T17:20:18.998Z"
   },
   {
    "duration": 6,
    "start_time": "2025-02-19T17:20:19.013Z"
   },
   {
    "duration": 43,
    "start_time": "2025-02-19T17:20:19.020Z"
   },
   {
    "duration": 26,
    "start_time": "2025-02-19T17:20:19.064Z"
   },
   {
    "duration": 20,
    "start_time": "2025-02-19T17:20:19.092Z"
   },
   {
    "duration": 20,
    "start_time": "2025-02-19T17:20:19.114Z"
   },
   {
    "duration": 127,
    "start_time": "2025-02-19T17:20:19.135Z"
   },
   {
    "duration": 305,
    "start_time": "2025-02-19T17:20:19.269Z"
   },
   {
    "duration": 129,
    "start_time": "2025-02-19T17:20:19.576Z"
   },
   {
    "duration": 25,
    "start_time": "2025-02-19T17:20:19.707Z"
   },
   {
    "duration": 23,
    "start_time": "2025-02-19T17:20:19.747Z"
   },
   {
    "duration": 18,
    "start_time": "2025-02-19T17:20:19.772Z"
   },
   {
    "duration": 155,
    "start_time": "2025-02-19T17:20:19.791Z"
   },
   {
    "duration": 607,
    "start_time": "2025-02-19T17:20:19.948Z"
   },
   {
    "duration": 636,
    "start_time": "2025-02-19T17:20:20.578Z"
   },
   {
    "duration": 4858,
    "start_time": "2025-02-19T17:20:21.216Z"
   },
   {
    "duration": 445,
    "start_time": "2025-02-19T17:20:26.079Z"
   },
   {
    "duration": 1041,
    "start_time": "2025-02-19T17:20:26.525Z"
   },
   {
    "duration": 3,
    "start_time": "2025-02-19T17:22:20.598Z"
   },
   {
    "duration": 1162,
    "start_time": "2025-02-19T17:22:28.660Z"
   },
   {
    "duration": 67,
    "start_time": "2025-02-19T17:22:29.824Z"
   },
   {
    "duration": 14,
    "start_time": "2025-02-19T17:22:29.895Z"
   },
   {
    "duration": 13,
    "start_time": "2025-02-19T17:22:29.911Z"
   },
   {
    "duration": 34,
    "start_time": "2025-02-19T17:22:29.926Z"
   },
   {
    "duration": 6,
    "start_time": "2025-02-19T17:22:29.964Z"
   },
   {
    "duration": 20,
    "start_time": "2025-02-19T17:22:29.974Z"
   },
   {
    "duration": 17,
    "start_time": "2025-02-19T17:22:29.996Z"
   },
   {
    "duration": 11,
    "start_time": "2025-02-19T17:22:30.017Z"
   },
   {
    "duration": 96,
    "start_time": "2025-02-19T17:22:30.048Z"
   },
   {
    "duration": 327,
    "start_time": "2025-02-19T17:22:30.151Z"
   },
   {
    "duration": 132,
    "start_time": "2025-02-19T17:22:30.481Z"
   },
   {
    "duration": 41,
    "start_time": "2025-02-19T17:22:30.615Z"
   },
   {
    "duration": 14,
    "start_time": "2025-02-19T17:22:30.659Z"
   },
   {
    "duration": 22,
    "start_time": "2025-02-19T17:22:30.676Z"
   },
   {
    "duration": 242,
    "start_time": "2025-02-19T17:22:30.701Z"
   },
   {
    "duration": 590,
    "start_time": "2025-02-19T17:22:30.945Z"
   },
   {
    "duration": 638,
    "start_time": "2025-02-19T17:22:31.536Z"
   },
   {
    "duration": 4216,
    "start_time": "2025-02-19T17:22:32.176Z"
   },
   {
    "duration": 442,
    "start_time": "2025-02-19T17:22:36.394Z"
   },
   {
    "duration": 1518,
    "start_time": "2025-02-19T17:22:36.838Z"
   },
   {
    "duration": 4480,
    "start_time": "2025-02-19T17:22:38.359Z"
   },
   {
    "duration": 1224,
    "start_time": "2025-02-19T17:38:21.816Z"
   },
   {
    "duration": 75,
    "start_time": "2025-02-19T17:38:23.042Z"
   },
   {
    "duration": 13,
    "start_time": "2025-02-19T17:38:23.119Z"
   },
   {
    "duration": 33,
    "start_time": "2025-02-19T17:38:23.134Z"
   },
   {
    "duration": 6,
    "start_time": "2025-02-19T17:38:23.169Z"
   },
   {
    "duration": 6,
    "start_time": "2025-02-19T17:38:23.177Z"
   },
   {
    "duration": 21,
    "start_time": "2025-02-19T17:38:23.185Z"
   },
   {
    "duration": 16,
    "start_time": "2025-02-19T17:38:23.208Z"
   },
   {
    "duration": 19,
    "start_time": "2025-02-19T17:38:23.226Z"
   },
   {
    "duration": 121,
    "start_time": "2025-02-19T17:38:23.249Z"
   },
   {
    "duration": 287,
    "start_time": "2025-02-19T17:38:23.373Z"
   },
   {
    "duration": 138,
    "start_time": "2025-02-19T17:38:23.662Z"
   },
   {
    "duration": 29,
    "start_time": "2025-02-19T17:38:23.802Z"
   },
   {
    "duration": 31,
    "start_time": "2025-02-19T17:38:23.833Z"
   },
   {
    "duration": 27,
    "start_time": "2025-02-19T17:38:23.866Z"
   },
   {
    "duration": 166,
    "start_time": "2025-02-19T17:38:23.895Z"
   },
   {
    "duration": 564,
    "start_time": "2025-02-19T17:38:24.068Z"
   },
   {
    "duration": 640,
    "start_time": "2025-02-19T17:38:24.634Z"
   },
   {
    "duration": 4204,
    "start_time": "2025-02-19T17:38:25.278Z"
   },
   {
    "duration": 445,
    "start_time": "2025-02-19T17:38:29.484Z"
   },
   {
    "duration": 539,
    "start_time": "2025-02-19T17:38:29.931Z"
   },
   {
    "duration": 4730,
    "start_time": "2025-02-19T17:38:30.472Z"
   },
   {
    "duration": 5,
    "start_time": "2025-02-19T17:38:35.204Z"
   },
   {
    "duration": 4,
    "start_time": "2025-02-19T17:38:35.210Z"
   },
   {
    "duration": 164732,
    "start_time": "2025-02-19T17:38:35.216Z"
   },
   {
    "duration": 1184,
    "start_time": "2025-02-19T17:42:57.182Z"
   },
   {
    "duration": 58,
    "start_time": "2025-02-19T17:42:58.373Z"
   },
   {
    "duration": 32,
    "start_time": "2025-02-19T17:42:58.433Z"
   },
   {
    "duration": 15,
    "start_time": "2025-02-19T17:42:58.473Z"
   },
   {
    "duration": 7,
    "start_time": "2025-02-19T17:42:58.492Z"
   },
   {
    "duration": 5,
    "start_time": "2025-02-19T17:42:58.500Z"
   },
   {
    "duration": 20,
    "start_time": "2025-02-19T17:42:58.507Z"
   },
   {
    "duration": 28,
    "start_time": "2025-02-19T17:42:58.528Z"
   },
   {
    "duration": 19,
    "start_time": "2025-02-19T17:42:58.558Z"
   },
   {
    "duration": 117,
    "start_time": "2025-02-19T17:42:58.582Z"
   },
   {
    "duration": 270,
    "start_time": "2025-02-19T17:42:58.702Z"
   },
   {
    "duration": 130,
    "start_time": "2025-02-19T17:42:58.974Z"
   },
   {
    "duration": 26,
    "start_time": "2025-02-19T17:42:59.106Z"
   },
   {
    "duration": 15,
    "start_time": "2025-02-19T17:42:59.136Z"
   },
   {
    "duration": 28,
    "start_time": "2025-02-19T17:42:59.153Z"
   },
   {
    "duration": 186,
    "start_time": "2025-02-19T17:42:59.183Z"
   },
   {
    "duration": 582,
    "start_time": "2025-02-19T17:42:59.372Z"
   },
   {
    "duration": 632,
    "start_time": "2025-02-19T17:42:59.955Z"
   },
   {
    "duration": 6189,
    "start_time": "2025-02-19T17:43:00.589Z"
   },
   {
    "duration": 417,
    "start_time": "2025-02-19T17:43:06.784Z"
   },
   {
    "duration": 460,
    "start_time": "2025-02-19T17:43:07.202Z"
   },
   {
    "duration": 4614,
    "start_time": "2025-02-19T17:43:07.664Z"
   },
   {
    "duration": 4,
    "start_time": "2025-02-19T17:43:12.281Z"
   },
   {
    "duration": 4,
    "start_time": "2025-02-19T17:43:12.287Z"
   },
   {
    "duration": 165662,
    "start_time": "2025-02-19T17:43:12.292Z"
   },
   {
    "duration": 11,
    "start_time": "2025-02-19T17:45:57.960Z"
   },
   {
    "duration": 395,
    "start_time": "2025-02-19T18:13:45.008Z"
   },
   {
    "duration": 616,
    "start_time": "2025-02-19T18:14:15.673Z"
   },
   {
    "duration": 1194,
    "start_time": "2025-02-19T18:29:18.968Z"
   },
   {
    "duration": 66,
    "start_time": "2025-02-19T18:29:20.164Z"
   },
   {
    "duration": 16,
    "start_time": "2025-02-19T18:29:20.231Z"
   },
   {
    "duration": 32,
    "start_time": "2025-02-19T18:29:20.252Z"
   },
   {
    "duration": 6,
    "start_time": "2025-02-19T18:29:20.286Z"
   },
   {
    "duration": 4,
    "start_time": "2025-02-19T18:29:20.294Z"
   },
   {
    "duration": 20,
    "start_time": "2025-02-19T18:29:20.299Z"
   },
   {
    "duration": 42,
    "start_time": "2025-02-19T18:29:20.320Z"
   },
   {
    "duration": 17,
    "start_time": "2025-02-19T18:29:20.364Z"
   },
   {
    "duration": 124,
    "start_time": "2025-02-19T18:29:20.383Z"
   },
   {
    "duration": 300,
    "start_time": "2025-02-19T18:29:20.509Z"
   },
   {
    "duration": 124,
    "start_time": "2025-02-19T18:29:20.811Z"
   },
   {
    "duration": 45,
    "start_time": "2025-02-19T18:29:20.937Z"
   },
   {
    "duration": 10,
    "start_time": "2025-02-19T18:29:20.986Z"
   },
   {
    "duration": 17,
    "start_time": "2025-02-19T18:29:20.998Z"
   },
   {
    "duration": 272,
    "start_time": "2025-02-19T18:29:21.018Z"
   },
   {
    "duration": 546,
    "start_time": "2025-02-19T18:29:21.343Z"
   },
   {
    "duration": 619,
    "start_time": "2025-02-19T18:29:21.892Z"
   },
   {
    "duration": 2457,
    "start_time": "2025-02-19T18:29:22.513Z"
   },
   {
    "duration": 402,
    "start_time": "2025-02-19T18:29:24.976Z"
   },
   {
    "duration": 495,
    "start_time": "2025-02-19T18:29:25.380Z"
   },
   {
    "duration": 5084,
    "start_time": "2025-02-19T18:29:25.878Z"
   },
   {
    "duration": 11,
    "start_time": "2025-02-19T18:29:30.975Z"
   },
   {
    "duration": 4,
    "start_time": "2025-02-19T18:29:30.992Z"
   },
   {
    "duration": 166213,
    "start_time": "2025-02-19T18:29:30.998Z"
   },
   {
    "duration": 3,
    "start_time": "2025-02-19T18:32:17.213Z"
   },
   {
    "duration": 367,
    "start_time": "2025-02-19T18:32:17.218Z"
   },
   {
    "duration": 625,
    "start_time": "2025-02-19T18:32:17.587Z"
   }
  ],
  "kernelspec": {
   "display_name": "Python 3 (ipykernel)",
   "language": "python",
   "name": "python3"
  },
  "language_info": {
   "codemirror_mode": {
    "name": "ipython",
    "version": 3
   },
   "file_extension": ".py",
   "mimetype": "text/x-python",
   "name": "python",
   "nbconvert_exporter": "python",
   "pygments_lexer": "ipython3",
   "version": "3.9.19"
  },
  "toc": {
   "base_numbering": 1,
   "nav_menu": {},
   "number_sections": true,
   "sideBar": true,
   "skip_h1_title": true,
   "title_cell": "Table of Contents",
   "title_sidebar": "Contents",
   "toc_cell": false,
   "toc_position": {},
   "toc_section_display": true,
   "toc_window_display": false
  }
 },
 "nbformat": 4,
 "nbformat_minor": 2
}
